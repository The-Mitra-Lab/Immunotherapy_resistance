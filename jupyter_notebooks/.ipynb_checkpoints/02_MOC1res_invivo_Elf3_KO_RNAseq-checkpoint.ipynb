{
 "cells": [
  {
   "cell_type": "markdown",
   "id": "6a942779-60d0-4d54-a755-0f4f4f79bd9a",
   "metadata": {},
   "source": [
    "# 02. MOC1res tumor Elf3 KO RNA-seq analysis\n",
    "\n",
    "MOC1res tumors (Elf3+/+ or Elf3-/-) were engrafted subcutaneously, administered anti-PD1 or IgG treatment, then allowed to grow for 30 days. On day 30 of growth, tumors were dissected, dissociated, and malignant cells were isolated by CD45(+) depletion. Malignant cells were then processed for bulk RNA-seq."
   ]
  },
  {
   "cell_type": "code",
   "execution_count": 1,
   "id": "f05c3d3c-e872-4053-98ac-cac2d7eb0a44",
   "metadata": {},
   "outputs": [],
   "source": [
    "from pydeseq2.dds import DeseqDataSet\n",
    "from pydeseq2.ds import DeseqStats\n",
    "import scanpy as sc\n",
    "import pandas as pd\n",
    "import numpy as np\n",
    "import seaborn as sns\n",
    "import matplotlib.pyplot as plt\n",
    "from matplotlib.lines import Line2D\n",
    "from scipy.stats import mannwhitneyu\n",
    "from statsmodels.stats.multitest import multipletests"
   ]
  },
  {
   "cell_type": "markdown",
   "id": "a49dbe3d-323f-478d-9509-055fcae57b59",
   "metadata": {},
   "source": [
    "## 0. Read in counts and metadata"
   ]
  },
  {
   "cell_type": "code",
   "execution_count": 2,
   "id": "b494ca21-084e-4669-939b-73d19cda16b7",
   "metadata": {},
   "outputs": [],
   "source": [
    "# read in and format counts\n",
    "counts = pd.read_csv('/path/to/RSM008_counts.csv')\n",
    "counts = counts.rename(columns={'Unnamed: 0': 'Geneid'})\n",
    "counts = counts.set_index('Geneid')"
   ]
  },
  {
   "cell_type": "code",
   "execution_count": 3,
   "id": "c0a6a033-9936-4175-a4b3-93a60714c49b",
   "metadata": {},
   "outputs": [],
   "source": [
    "# remove lowly expressed genes\n",
    "counts = counts[counts.sum(axis = 1) > 10]"
   ]
  },
  {
   "cell_type": "code",
   "execution_count": 4,
   "id": "53bc165e-7896-4b09-947f-369b01ff7f44",
   "metadata": {},
   "outputs": [],
   "source": [
    "# remove duplicated genes (usually just 'Bfar', which throws an error)\n",
    "counts = counts[~counts.index.duplicated()]"
   ]
  },
  {
   "cell_type": "code",
   "execution_count": 5,
   "id": "5af97b10-6376-4b94-90bc-85088409d4d0",
   "metadata": {},
   "outputs": [],
   "source": [
    "# transpose for DESeq\n",
    "counts = counts.T"
   ]
  },
  {
   "cell_type": "code",
   "execution_count": 6,
   "id": "f59ca949-b011-43a6-b2b2-4b6b706fbadd",
   "metadata": {},
   "outputs": [],
   "source": [
    "# read in metadata from BRB-seq run\n",
    "metadata = pd.read_csv('/path/to/counts_manifest.csv')\n",
    "metadata = metadata.set_index('sample')"
   ]
  },
  {
   "cell_type": "code",
   "execution_count": 7,
   "id": "1e9eb541-40f7-41cc-b140-d56723bb0dd2",
   "metadata": {},
   "outputs": [],
   "source": [
    "# subset to only the samples associated with this experiment\n",
    "metadata = metadata[metadata.experiment == 'RSM008']"
   ]
  },
  {
   "cell_type": "code",
   "execution_count": 8,
   "id": "8a059ba0-cd8d-4494-b5cc-1585061e5985",
   "metadata": {},
   "outputs": [],
   "source": [
    "# format metadata\n",
    "metadata = metadata.drop(columns=['experiment'])"
   ]
  },
  {
   "cell_type": "markdown",
   "id": "3c3d44c6-69f5-4213-8036-48e4383b2245",
   "metadata": {},
   "source": [
    "## 1. Perform DESeq2 to obtain size-factor normalized counts matrix; format as AnnData object"
   ]
  },
  {
   "cell_type": "code",
   "execution_count": 9,
   "id": "79b427c1-dac6-43c7-95c1-1f43568e2fcf",
   "metadata": {},
   "outputs": [],
   "source": [
    "# initialize DESeq2\n",
    "dds = DeseqDataSet(counts=counts,\n",
    "            metadata=metadata,\n",
    "            design_factors=\"condition\")"
   ]
  },
  {
   "cell_type": "code",
   "execution_count": 10,
   "id": "8db763df-a22b-4288-a2b1-ca65d76b1f2a",
   "metadata": {},
   "outputs": [
    {
     "name": "stderr",
     "output_type": "stream",
     "text": [
      "Fitting size factors...\n",
      "... done in 0.01 seconds.\n",
      "\n",
      "Fitting dispersions...\n",
      "... done in 1.11 seconds.\n",
      "\n",
      "Fitting dispersion trend curve...\n",
      "... done in 0.24 seconds.\n",
      "\n",
      "Fitting MAP dispersions...\n",
      "... done in 1.24 seconds.\n",
      "\n",
      "Fitting LFCs...\n",
      "... done in 0.79 seconds.\n",
      "\n",
      "Calculating cook's distance...\n",
      "... done in 0.02 seconds.\n",
      "\n",
      "Replacing 11 outlier genes.\n",
      "\n",
      "Fitting dispersions...\n",
      "... done in 0.01 seconds.\n",
      "\n",
      "Fitting MAP dispersions...\n",
      "... done in 0.01 seconds.\n",
      "\n",
      "Fitting LFCs...\n",
      "... done in 0.01 seconds.\n",
      "\n"
     ]
    }
   ],
   "source": [
    "# run\n",
    "dds.deseq2()"
   ]
  },
  {
   "cell_type": "code",
   "execution_count": 11,
   "id": "8f769d88-0040-42b6-9bdf-4b927779736f",
   "metadata": {},
   "outputs": [
    {
     "data": {
      "text/plain": [
       "AnnData object with n_obs × n_vars = 23 × 15419\n",
       "    obs: 'condition'\n",
       "    uns: 'trend_coeffs', 'disp_function_type', '_squared_logres', 'prior_disp_var'\n",
       "    obsm: 'design_matrix', 'size_factors', '_mu_LFC', '_hat_diagonals', 'replaceable'\n",
       "    varm: '_normed_means', 'non_zero', '_MoM_dispersions', 'genewise_dispersions', '_genewise_converged', 'fitted_dispersions', 'MAP_dispersions', '_MAP_converged', 'dispersions', '_outlier_genes', 'LFC', '_LFC_converged', 'replaced', 'refitted'\n",
       "    layers: 'normed_counts', '_mu_hat', 'cooks', 'replace_cooks'"
      ]
     },
     "execution_count": 11,
     "metadata": {},
     "output_type": "execute_result"
    }
   ],
   "source": [
    "dds"
   ]
  },
  {
   "cell_type": "code",
   "execution_count": 12,
   "id": "2bbf319f-78ab-4c79-8331-415683524bd4",
   "metadata": {},
   "outputs": [],
   "source": [
    "# create normalized counts matrix\n",
    "dds_obs_df = pd.DataFrame(dds.obs)\n",
    "dds_var_df = pd.DataFrame(dds.var)\n",
    "dds_matrix_df = pd.DataFrame(dds.layers['normed_counts'], index=dds.obs.index, columns=dds.var.index)\n",
    "\n",
    "norm_counts = pd.concat([dds_obs_df, dds_matrix_df], axis=1)"
   ]
  },
  {
   "cell_type": "code",
   "execution_count": 13,
   "id": "683ede0a-b6c8-4633-acc9-876e0459a9fb",
   "metadata": {},
   "outputs": [],
   "source": [
    "# store as AnnData object\n",
    "adata = sc.AnnData(norm_counts.iloc[:, 1:])\n",
    "adata.obs = metadata"
   ]
  },
  {
   "cell_type": "markdown",
   "id": "8601bfbf-e37e-4efa-b422-afd7b1c38f7f",
   "metadata": {},
   "source": [
    "## 2. Score gene sets"
   ]
  },
  {
   "cell_type": "code",
   "execution_count": 14,
   "id": "12cecab5-875a-422f-a824-17aa8f9cebde",
   "metadata": {},
   "outputs": [],
   "source": [
    "# define gene sets\n",
    "ICBres = [\n",
    "    \"Prss27\", \"Elf3\", \"Desi1\", \"Ltf\", \"Pglyrp4\", \"Pdzk1ip1\", \"Spns2\", \"Psca\", \"Prss22\", \"Tmprss11g\",\n",
    "    \"Gsto1\", \"Krt19\", \"Muc20\", \"Tspan1\", \"Duoxa2\", \"Gm13056\", \"Tmc5\", \"Ecm1\", \"Cblc\", \"Gm9573\", \n",
    "    \"AA467197\", \"Capn5\", \"Glrx\", \"Spns3\", \"Tmprss11e\", \"Gm14137\", \"Trp53inp2\", \"Slc6a14\", \"Dynap\", \n",
    "    \"Dusp4\", \"Cldn23\", \"AI661453\", \"Clic5\", \"Grpel2\", \"Apol7a\", \"Gde1\", \"Mal\", \"Duox2\", \"Nupr1\", \n",
    "    \"Cldn1\", \"P2ry2\", \"Irf7\", \"S100a14\", \"Cdkn2b\", \"Mall\", \"Plekhs1\", \"AC168977.1\", \"Muc4\", \"Fxyd4\", \n",
    "    \"Ly6m\", \"Trim15\", \"Mal2\", \"Wnt7b\", \"Ift22\", \"Plet1\", \"Ppbp\", \"Hist1h1c\", \"Cryba4\", \"Krt7\", \"Hsd17b7\", \n",
    "    \"Clca3b\", \"Tmprss11f\", \"Serpinb9f\", \"Gm48975\", \"Myzap\", \"Slc9a3r1\", \"Pttg1ip\", \"Slc28a3\", \"Cidea\", \n",
    "    \"Gm13074\", \"Gm20234\", \"Arg1\", \"4930459C07Rik\", \"Bspry\", \"Ccdc12\", \"Pigr\", \"Krt23\", \"1810044K17Rik\", \n",
    "    \"Cyp2d10\", \"Pbp2\", \"Cxcl5\", \"Tmprss4\", \"Lpcat4\", \"Ccdc71l\", \"Arhgap27os1\", \"Eps8l2\", \"Tmprss11b\", \n",
    "    \"Serpinb9g\", \"Csf3\", \"Ifit1bl1\", \"Liph\", \"Ephb3\", \"AA986860\", \"Lgals3\", \"Rassf7\", \"Gm49439\", \"Grhl1\", \n",
    "    \"Gfpt1\", \"Trim16\", \"Sprr2d\"\n",
    "]\n",
    "\n",
    "IFNresp = [\n",
    "    \"Gbp6\", \"Gbp2\", \"Iigp1\", \"Cntn1\", \"Gm4951\", \"Olfr56\", \"Mill1\", \"Cxcl10\", \n",
    "    \"Gbp4\", \"Ifit3\", \"Apol10b\", \"Ifi47\", \"Gbp5\", \"Slco2a1\", \"Prl2c2\", \"Greb1l\", \n",
    "    \"Gbp8\", \"Ccl7\", \"Gm14636\", \"Gm12185\", \"Apol9a\", \"Gm15987\", \"Adgrb3\", \n",
    "    \"Prl2c3\", \"Ccl2\", \"Rgs4\", \"Ifit1\", \"Serpina3g\", \"Irf1\", \"Asic2\", \"Cxcl9\", \n",
    "    \"Ms4a4d\", \"Ifih1\", \"Gm16685\", \"Alox12e\", \"Nrg1\", \"Ghr\", \"Gm26907\", \"Clic4\", \n",
    "    \"Robo2\", \"F830016B08Rik\", \"Lama3\", \"Fam126a\", \"Gm4841\", \"Gnb4\", \"Ammecr1\", \n",
    "    \"C130026I21Rik\", \"Prl2c5\", \"Samd5\", \"Fcgbp\", \"Plcb1\", \"Flnb\", \"Cyp7b1\", \n",
    "    \"Il24\", \"Alox15\", \"Ifit3b\", \"Ncam1\", \"Csprs\", \"Cd44\", \"Il18r1\", \"Serpinb2\", \n",
    "    \"Efemp1\", \"Tenm1\", \"Ccl8\", \"Slc6a4\", \"Has2\", \"Ubd\", \"Nppb\", \"Ccl11\", \"Fap\", \n",
    "    \"Pcdh7\", \"Gm17268\", \"Ifi203\", \"Tnc\", \"Majin\", \"Csmd1\", \"Robo1\", \"Vcam1\", \n",
    "    \"Irf7\", \"BC028777\", \"Npas3\", \"Itgb6\", \"Dclk1\", \"Nek10\", \"Ly75\", \"Cfap47\", \n",
    "    \"Slc4a7\", \"Vegfc\", \"Cnga1\", \"Hcn1\", \"Syt1\", \"Slco1a5\", \"Gdnf\", \"Tenm3\", \n",
    "    \"Erc1\", \"Skint3\", \"Pdlim1\", \"Dnah8\", \"1700120C14Rik\", \"Tnip3\"\n",
    "]"
   ]
  },
  {
   "cell_type": "code",
   "execution_count": 15,
   "id": "e2214577-3f88-45b9-af88-56bf893b5305",
   "metadata": {},
   "outputs": [
    {
     "name": "stdout",
     "output_type": "stream",
     "text": [
      "WARNING: genes are not in var_names and ignored: Index(['Gm9573', 'AC168977.1', 'Muc4', 'Trim15', 'Hist1h1c', 'Clca3b',\n",
      "       'Serpinb9f', 'Gm48975', 'Slc9a3r1', 'Gm20234', '4930459C07Rik',\n",
      "       '1810044K17Rik', 'Cyp2d10', 'Serpinb9g', 'Gm49439'],\n",
      "      dtype='object')\n",
      "WARNING: genes are not in var_names and ignored: Index(['Gm4951', 'Olfr56', 'Asic2', 'Gm26907', 'Fam126a', 'C130026I21Rik',\n",
      "       'Csprs', 'Gm17268', 'BC028777', 'Npas3', 'Nek10', 'Cfap47', 'Cnga1',\n",
      "       'Syt1'],\n",
      "      dtype='object')\n"
     ]
    }
   ],
   "source": [
    "# score gene sets\n",
    "sc.tl.score_genes(adata, ICBres, score_name='ICBres')\n",
    "sc.tl.score_genes(adata, IFNresp, score_name='IFNresp')"
   ]
  },
  {
   "cell_type": "code",
   "execution_count": 16,
   "id": "dcd4e8d6-4e00-4d0f-b63c-3b17204e56b4",
   "metadata": {},
   "outputs": [],
   "source": [
    "# define plotting function\n",
    "def plot_programs(adata, program, baseline_group, plot_groups):\n",
    "    \"\"\"\n",
    "    create a boxplot with overlayed scatterplot for program of interest\n",
    "    normalized to a sample of interest\n",
    "    \"\"\"\n",
    "    # define palette for all conditions\n",
    "    subset_palette = {\n",
    "        \"MOC1res + isotype\":        \"dimgrey\",\n",
    "        \"MOC1res + aPD1\":           \"red\",\n",
    "        \"MOC1res Elf3 KO + isotype\":\"lightgrey\",\n",
    "        \"MOC1res Elf3 KO + aPD1\":   \"blue\"\n",
    "    }\n",
    "\n",
    "    # restrict palette to those specified by user\n",
    "    plot_palette = {gp: subset_palette[gp] for gp in plot_groups}\n",
    "\n",
    "    # grab both the two plot groups and the baseline\n",
    "    conds_for_norm = set(plot_groups) | {baseline_group}\n",
    "    df = (\n",
    "        adata.obs\n",
    "        .loc[\n",
    "            (adata.obs.index != \"RS37\") &\n",
    "            (adata.obs[\"condition\"].isin(conds_for_norm))\n",
    "        ]\n",
    "        .copy()\n",
    "    )\n",
    "\n",
    "    # scale scores to zero and add pseudocount to avoid division by zero\n",
    "    min_val = df[program].min()\n",
    "    shifted = df[program] - min_val + 0.01\n",
    "\n",
    "    # normalize to the mean of the baseline group\n",
    "    baseline_mean = shifted[df[\"condition\"] == baseline_group].mean()\n",
    "    df[f\"{program}_norm\"] = shifted / baseline_mean\n",
    "\n",
    "    # now drop baseline \n",
    "    plot_df = df[df[\"condition\"].isin(plot_groups)].copy()\n",
    "\n",
    "    # plot\n",
    "    plt.figure(figsize=(1.25, 1.5))\n",
    "    sns.boxplot(\n",
    "        data=plot_df,\n",
    "        x=\"condition\", y=f\"{program}_norm\",\n",
    "        order=plot_groups,\n",
    "        palette=plot_palette,\n",
    "        showcaps=False,\n",
    "        linewidth=0.5,\n",
    "        fliersize=0,\n",
    "        width=0.5\n",
    "    )\n",
    "    sns.stripplot(\n",
    "        data=plot_df,\n",
    "        x=\"condition\", y=f\"{program}_norm\",\n",
    "        order=plot_groups,\n",
    "        color=\"black\",\n",
    "        size=3,\n",
    "        jitter=True,\n",
    "        edgecolor=\"black\",\n",
    "        linewidth=0.4\n",
    "    )\n",
    "\n",
    "    ax = plt.gca()\n",
    "    # format\n",
    "    ax.spines[\"top\"].set_visible(False)\n",
    "    ax.spines[\"right\"].set_visible(False)\n",
    "    ax.spines[\"left\"].set_color(\"black\")\n",
    "    ax.spines[\"bottom\"].set_color(\"black\")\n",
    "    ax.spines[\"left\"].set_linewidth(1)\n",
    "    ax.spines[\"bottom\"].set_linewidth(1)\n",
    "    ax.tick_params(\n",
    "        axis=\"both\", which=\"major\", direction=\"out\",\n",
    "        length=5, width=1, colors=\"black\",\n",
    "        bottom=True, left=True, top=False, right=False\n",
    "    )\n",
    "    plt.xticks([], size=9)\n",
    "    ax.set_yticklabels([\"\" for _ in ax.get_yticks()])\n",
    "    plt.xlim(-0.5, len(plot_groups) - 0.5)\n",
    "    plt.ylabel(\"\", fontsize=9)\n",
    "    plt.xlabel(\"\")\n",
    "    plt.grid(False)\n",
    "    plt.tight_layout()\n",
    "    plt.show()"
   ]
  },
  {
   "cell_type": "code",
   "execution_count": 17,
   "id": "a63ac811-37a1-4fa8-b1cc-07dede206000",
   "metadata": {},
   "outputs": [],
   "source": [
    "# remove outlier RS37\n",
    "adata_subset = adata[adata.obs.index!='RS37']"
   ]
  },
  {
   "cell_type": "code",
   "execution_count": 18,
   "id": "6f56da73-23bf-4de5-9a58-549b1fdc0543",
   "metadata": {},
   "outputs": [
    {
     "name": "stderr",
     "output_type": "stream",
     "text": [
      "/var/folders/5n/z6n7v0d52cz96tmj0j15w_g80000gn/T/ipykernel_44602/3443285697.py:77: UserWarning: set_ticklabels() should only be used with a fixed number of ticks, i.e. after set_ticks() or using a FixedLocator.\n",
      "  ax.set_yticklabels([\"\" for _ in ax.get_yticks()])\n"
     ]
    },
    {
     "data": {
      "image/png": "[encoded data removed]",
      "text/plain": [
       "<Figure size 125x150 with 1 Axes>"
      ]
     },
     "metadata": {},
     "output_type": "display_data"
    }
   ],
   "source": [
    "plot_programs(\n",
    "    adata,\n",
    "    program=\"ICBres\",\n",
    "    baseline_group=\"MOC1res + aPD1\",\n",
    "    plot_groups=[\"MOC1res + aPD1\", \"MOC1res Elf3 KO + aPD1\"]\n",
    ")"
   ]
  },
  {
   "cell_type": "code",
   "execution_count": 19,
   "id": "c791b406-70eb-4ad7-97a2-e15e824bf930",
   "metadata": {},
   "outputs": [
    {
     "name": "stdout",
     "output_type": "stream",
     "text": [
      "Mann–Whitney U Test:\n",
      "Statistic = 22.000\n",
      "P-value   = 4.8485e-02\n"
     ]
    }
   ],
   "source": [
    "# statistical comparison\n",
    "# set program\n",
    "prog = 'ICBres'\n",
    "# extract the two groups\n",
    "group1 = adata_subset[adata_subset.obs['condition'] == \"MOC1res + aPD1\"].obs[prog]\n",
    "group2 = adata_subset[adata_subset.obs['condition'] == \"MOC1res Elf3 KO + aPD1\"].obs[prog]\n",
    "\n",
    "# MWU test\n",
    "stat, pval = mannwhitneyu(group1, group2, alternative='two-sided')\n",
    "\n",
    "# report results\n",
    "print(\"Mann–Whitney U Test:\")\n",
    "print(f\"Statistic = {stat:.3f}\")\n",
    "print(f\"P-value   = {pval:.4e}\")\n"
   ]
  },
  {
   "cell_type": "code",
   "execution_count": 20,
   "id": "023df80a-c62d-4bae-ae3f-3f8acc232132",
   "metadata": {},
   "outputs": [
    {
     "name": "stderr",
     "output_type": "stream",
     "text": [
      "/var/folders/5n/z6n7v0d52cz96tmj0j15w_g80000gn/T/ipykernel_44602/3443285697.py:77: UserWarning: set_ticklabels() should only be used with a fixed number of ticks, i.e. after set_ticks() or using a FixedLocator.\n",
      "  ax.set_yticklabels([\"\" for _ in ax.get_yticks()])\n"
     ]
    },
    {
     "data": {
      "image/png": "[encoded data removed]",
      "text/plain": [
       "<Figure size 125x150 with 1 Axes>"
      ]
     },
     "metadata": {},
     "output_type": "display_data"
    }
   ],
   "source": [
    "plot_programs(\n",
    "    adata,\n",
    "    program=\"ICBres\",\n",
    "    baseline_group=\"MOC1res + isotype\",\n",
    "    plot_groups=[\"MOC1res + isotype\", \"MOC1res Elf3 KO + isotype\"]\n",
    ")"
   ]
  },
  {
   "cell_type": "code",
   "execution_count": 21,
   "id": "610fd9af-30c7-4369-8468-ef5d63a6ead5",
   "metadata": {},
   "outputs": [
    {
     "name": "stdout",
     "output_type": "stream",
     "text": [
      "Mann–Whitney U Test:\n",
      "Statistic = 26.000\n",
      "P-value   = 2.4242e-02\n"
     ]
    }
   ],
   "source": [
    "# statistical comparison\n",
    "# set program\n",
    "prog = 'ICBres'\n",
    "# extract the two groups\n",
    "group1 = adata_subset[adata_subset.obs['condition'] == \"MOC1res + isotype\"].obs[prog]\n",
    "group2 = adata_subset[adata_subset.obs['condition'] == \"MOC1res Elf3 KO + isotype\"].obs[prog]\n",
    "\n",
    "# MWU test\n",
    "stat, pval = mannwhitneyu(group1, group2, alternative='two-sided')\n",
    "\n",
    "# report results\n",
    "print(\"Mann–Whitney U Test:\")\n",
    "print(f\"Statistic = {stat:.3f}\")\n",
    "print(f\"P-value   = {pval:.4e}\")\n"
   ]
  },
  {
   "cell_type": "code",
   "execution_count": 22,
   "id": "5a602468-2097-472b-b3db-78d066b07e3b",
   "metadata": {},
   "outputs": [
    {
     "name": "stderr",
     "output_type": "stream",
     "text": [
      "/var/folders/5n/z6n7v0d52cz96tmj0j15w_g80000gn/T/ipykernel_44602/3443285697.py:77: UserWarning: set_ticklabels() should only be used with a fixed number of ticks, i.e. after set_ticks() or using a FixedLocator.\n",
      "  ax.set_yticklabels([\"\" for _ in ax.get_yticks()])\n"
     ]
    },
    {
     "data": {
      "image/png": "[encoded data removed]",
      "text/plain": [
       "<Figure size 125x150 with 1 Axes>"
      ]
     },
     "metadata": {},
     "output_type": "display_data"
    }
   ],
   "source": [
    "plot_programs(\n",
    "    adata,\n",
    "    program=\"IFNresp\",\n",
    "    baseline_group=\"MOC1res + aPD1\",\n",
    "    plot_groups=[\"MOC1res + aPD1\", \"MOC1res Elf3 KO + aPD1\"]\n",
    ")"
   ]
  },
  {
   "cell_type": "code",
   "execution_count": 23,
   "id": "abf04dcb-b5e8-4f6a-b64b-64b4e566a446",
   "metadata": {},
   "outputs": [
    {
     "name": "stdout",
     "output_type": "stream",
     "text": [
      "Mann–Whitney U Test:\n",
      "Statistic = 2.000\n",
      "P-value   = 4.8485e-02\n"
     ]
    }
   ],
   "source": [
    "# statistical comparison\n",
    "# set program\n",
    "prog = 'IFNresp'\n",
    "# extract the two groups\n",
    "group1 = adata_subset[adata_subset.obs['condition'] == \"MOC1res + aPD1\"].obs[prog]\n",
    "group2 = adata_subset[adata_subset.obs['condition'] == \"MOC1res Elf3 KO + aPD1\"].obs[prog]\n",
    "\n",
    "# MWU test\n",
    "stat, pval = mannwhitneyu(group1, group2, alternative='two-sided')\n",
    "\n",
    "# report results\n",
    "print(\"Mann–Whitney U Test:\")\n",
    "print(f\"Statistic = {stat:.3f}\")\n",
    "print(f\"P-value   = {pval:.4e}\")\n"
   ]
  },
  {
   "cell_type": "code",
   "execution_count": 24,
   "id": "1a9a2454-c038-49bd-b0e8-9693a9c44c97",
   "metadata": {},
   "outputs": [
    {
     "name": "stderr",
     "output_type": "stream",
     "text": [
      "/var/folders/5n/z6n7v0d52cz96tmj0j15w_g80000gn/T/ipykernel_44602/3443285697.py:77: UserWarning: set_ticklabels() should only be used with a fixed number of ticks, i.e. after set_ticks() or using a FixedLocator.\n",
      "  ax.set_yticklabels([\"\" for _ in ax.get_yticks()])\n"
     ]
    },
    {
     "data": {
      "image/png": "[encoded data removed]",
      "text/plain": [
       "<Figure size 125x150 with 1 Axes>"
      ]
     },
     "metadata": {},
     "output_type": "display_data"
    }
   ],
   "source": [
    "plot_programs(\n",
    "    adata,\n",
    "    program=\"IFNresp\",\n",
    "    baseline_group=\"MOC1res + isotype\",\n",
    "    plot_groups=[\"MOC1res + isotype\", \"MOC1res Elf3 KO + isotype\"]\n",
    ")"
   ]
  },
  {
   "cell_type": "code",
   "execution_count": 25,
   "id": "55c2dbcb-1c9d-4e0a-8271-0f2019128a4a",
   "metadata": {},
   "outputs": [
    {
     "name": "stdout",
     "output_type": "stream",
     "text": [
      "Mann–Whitney U Test:\n",
      "Statistic = 3.000\n",
      "P-value   = 4.2424e-02\n"
     ]
    }
   ],
   "source": [
    "# statistical comparison\n",
    "# set program\n",
    "prog = 'IFNresp'\n",
    "# extract the two groups\n",
    "group1 = adata_subset[adata_subset.obs['condition'] == \"MOC1res + isotype\"].obs[prog]\n",
    "group2 = adata_subset[adata_subset.obs['condition'] == \"MOC1res Elf3 KO + isotype\"].obs[prog]\n",
    "\n",
    "# MWU test\n",
    "stat, pval = mannwhitneyu(group1, group2, alternative='two-sided')\n",
    "\n",
    "# report results\n",
    "print(\"Mann–Whitney U Test:\")\n",
    "print(f\"Statistic = {stat:.3f}\")\n",
    "print(f\"P-value   = {pval:.4e}\")\n"
   ]
  },
  {
   "cell_type": "markdown",
   "id": "5b2ff89a-8d3a-420f-b6b3-7e921575e64b",
   "metadata": {},
   "source": [
    "## 3. Plot program marker genes"
   ]
  },
  {
   "cell_type": "code",
   "execution_count": 26,
   "id": "173d491d-78d3-4550-8931-eaedf36486d1",
   "metadata": {},
   "outputs": [
    {
     "data": {
      "image/png": "[encoded data removed]",
      "text/plain": [
       "<Figure size 410x150 with 1 Axes>"
      ]
     },
     "metadata": {},
     "output_type": "display_data"
    }
   ],
   "source": [
    "# plot an array of genes between WT and Elf3 KO\n",
    "# define genes and conditions\n",
    "genes = ['Ltf','Il1a','Cxcl2','Slc6a14', 'Lgals3','Mal2']\n",
    "subset_order = [\n",
    "    \"MOC1res + aPD1\",\n",
    "    \"MOC1res Elf3 KO + aPD1\"\n",
    "]\n",
    "subset_palette = {\n",
    "    \"MOC1res + isotype\": \"dimgrey\", \n",
    "    \"MOC1res + aPD1\": \"red\", \n",
    "    \"MOC1res Elf3 KO + isotype\": \"lightgrey\", \n",
    "    \"MOC1res Elf3 KO + aPD1\": \"blue\"\n",
    "}\n",
    "\n",
    "\n",
    "# store data as a dataframe\n",
    "plot_data = []\n",
    "\n",
    "for gene in genes:\n",
    "    if gene not in adata.var_names:\n",
    "        print(f\"Skipping missing gene: {gene}\")\n",
    "        continue\n",
    "\n",
    "    expr = list(adata[:, gene].X.flatten())\n",
    "    temp_df = adata.obs[['condition']].copy()\n",
    "    temp_df[gene] = expr\n",
    "    temp_df = temp_df[temp_df['condition'].isin(subset_order)]\n",
    "\n",
    "    # normalize per gene to first condition (WT)\n",
    "    baseline_mean = temp_df.loc[temp_df['condition'] == subset_order[0], gene].mean()\n",
    "    temp_df['expression_norm'] = temp_df[gene] / baseline_mean\n",
    "    temp_df['gene'] = gene\n",
    "\n",
    " \n",
    "    plot_data.append(temp_df[['gene', 'condition', 'expression_norm']])\n",
    "\n",
    "# combine all into one DataFrame\n",
    "plot_df = pd.concat(plot_data)\n",
    "\n",
    "# plot\n",
    "box_width = .4\n",
    "\n",
    "fig, ax = plt.subplots(figsize=(4.1 ,1.5))\n",
    "\n",
    "ax = sns.boxplot(\n",
    "    data=plot_df,\n",
    "    x='gene', y='expression_norm',\n",
    "    hue='condition',\n",
    "    order=genes,\n",
    "    hue_order=subset_order,\n",
    "    palette=subset_palette,\n",
    "    showcaps=True,\n",
    "    width=.8,\n",
    "    fliersize=0,\n",
    "    dodge=True,\n",
    "    medianprops={\"linewidth\": 0.5},\n",
    "    whiskerprops={\"linewidth\": 0.5},\n",
    "    boxprops={'linewidth': .5}\n",
    ")\n",
    "\n",
    "sns.stripplot(\n",
    "    data=plot_df,\n",
    "    x='gene', y='expression_norm',\n",
    "    hue='condition',\n",
    "    order=genes,\n",
    "    hue_order=subset_order,\n",
    "    dodge=True,\n",
    "    color='black',\n",
    "    size=3,\n",
    "    edgecolor='black',\n",
    "    linewidth=0.3,\n",
    "    alpha=0.7,\n",
    "    ax=ax\n",
    ")\n",
    "\n",
    "# remove legends\n",
    "ax.legend_.remove()\n",
    "\n",
    "# format axes\n",
    "ax.spines['top'].set_visible(False)\n",
    "ax.spines['right'].set_visible(False)\n",
    "ax.spines['left'].set_color('black')\n",
    "ax.spines['bottom'].set_color('black')\n",
    "ax.spines['left'].set_linewidth(1)\n",
    "ax.spines['bottom'].set_linewidth(1)\n",
    "ax.tick_params(direction='out', length=4, width=1, colors='black')\n",
    "plt.xlabel('')\n",
    "plt.ylabel('')\n",
    "plt.ylim(0,1.5)\n",
    "plt.tight_layout()\n",
    "plt.savefig('ICBres_gex.png', dpi=600)\n",
    "plt.show()"
   ]
  },
  {
   "cell_type": "code",
   "execution_count": 27,
   "id": "945563ee-20fb-415c-8e9b-a8a5eb26e46c",
   "metadata": {},
   "outputs": [
    {
     "data": {
      "image/png": "[encoded data removed]",
      "text/plain": [
       "<Figure size 400x150 with 1 Axes>"
      ]
     },
     "metadata": {},
     "output_type": "display_data"
    }
   ],
   "source": [
    "# plot an array of genes between WT and Elf3 KO\n",
    "# define genes and conditions\n",
    "genes = ['Stat1','Cxcl9', 'Ifit1', 'Tap1','H2-K1','H2-Aa']\n",
    "subset_order = [\n",
    "    \"MOC1res + aPD1\",\n",
    "    \"MOC1res Elf3 KO + aPD1\"\n",
    "]\n",
    "subset_palette = {\n",
    "    \"MOC1res + isotype\": \"dimgrey\", \n",
    "    \"MOC1res + aPD1\": \"red\", \n",
    "    \"MOC1res Elf3 KO + isotype\": \"lightgrey\", \n",
    "    \"MOC1res Elf3 KO + aPD1\": \"blue\"\n",
    "}\n",
    "\n",
    "\n",
    "# store data as a dataframe\n",
    "plot_data = []\n",
    "\n",
    "for gene in genes:\n",
    "    if gene not in adata.var_names:\n",
    "        print(f\"Skipping missing gene: {gene}\")\n",
    "        continue\n",
    "\n",
    "    expr = list(adata[:, gene].X.flatten())\n",
    "    temp_df = adata.obs[['condition']].copy()\n",
    "    temp_df[gene] = expr\n",
    "    temp_df = temp_df[temp_df['condition'].isin(subset_order)]\n",
    "\n",
    "    # normalize per gene to first condition (WT)\n",
    "    baseline_mean = temp_df.loc[temp_df['condition'] == subset_order[0], gene].mean()\n",
    "    temp_df['expression_norm'] = temp_df[gene] / baseline_mean\n",
    "    temp_df['gene'] = gene\n",
    "\n",
    "    plot_data.append(temp_df[['gene', 'condition', 'expression_norm']])\n",
    "\n",
    "# combine all into one DataFrame\n",
    "plot_df = pd.concat(plot_data)\n",
    "\n",
    "# plot\n",
    "box_width = .4\n",
    "\n",
    "fig, ax = plt.subplots(figsize=(4 ,1.5))\n",
    "\n",
    "ax = sns.boxplot(\n",
    "    data=plot_df,\n",
    "    x='gene', y='expression_norm',\n",
    "    hue='condition',\n",
    "    order=genes,\n",
    "    hue_order=subset_order,\n",
    "    palette=subset_palette,\n",
    "    showcaps=True,\n",
    "    width=.8,\n",
    "    fliersize=0,\n",
    "    dodge=True,\n",
    "    medianprops={\"linewidth\": .5},\n",
    "    whiskerprops={\"linewidth\": .5},\n",
    "    boxprops={'linewidth': .5},\n",
    "\n",
    ")\n",
    "\n",
    "sns.stripplot(\n",
    "    data=plot_df,\n",
    "    x='gene', y='expression_norm',\n",
    "    hue='condition',\n",
    "    order=genes,\n",
    "    hue_order=subset_order,\n",
    "    dodge=True,\n",
    "    color='black',\n",
    "    size=3,\n",
    "    edgecolor='black',\n",
    "    linewidth=0.3,\n",
    "    alpha=0.7,\n",
    "    ax=ax\n",
    ")\n",
    "\n",
    "# remove legends\n",
    "ax.legend_.remove()\n",
    "\n",
    "ax.spines['top'].set_visible(False)\n",
    "ax.spines['right'].set_visible(False)\n",
    "ax.spines['left'].set_color('black')\n",
    "ax.spines['bottom'].set_color('black')\n",
    "ax.spines['left'].set_linewidth(1)\n",
    "ax.spines['bottom'].set_linewidth(1)\n",
    "ax.tick_params(direction='out', length=4, width=1, colors='black')\n",
    "plt.xlabel('')\n",
    "plt.ylabel('')\n",
    "plt.tight_layout()\n",
    "plt.savefig('IFNresp_gex.png', dpi=600)\n",
    "plt.show()"
   ]
  },
  {
   "cell_type": "code",
   "execution_count": 28,
   "id": "da030213-3070-4466-8b31-7207e353b363",
   "metadata": {},
   "outputs": [
    {
     "data": {
      "text/html": [
       "<div>\n",
       "<style scoped>\n",
       "    .dataframe tbody tr th:only-of-type {\n",
       "        vertical-align: middle;\n",
       "    }\n",
       "\n",
       "    .dataframe tbody tr th {\n",
       "        vertical-align: top;\n",
       "    }\n",
       "\n",
       "    .dataframe thead th {\n",
       "        text-align: right;\n",
       "    }\n",
       "</style>\n",
       "<table border=\"1\" class=\"dataframe\">\n",
       "  <thead>\n",
       "    <tr style=\"text-align: right;\">\n",
       "      <th></th>\n",
       "      <th>Gene</th>\n",
       "      <th>U statistic</th>\n",
       "      <th>P-value</th>\n",
       "    </tr>\n",
       "  </thead>\n",
       "  <tbody>\n",
       "    <tr>\n",
       "      <th>1</th>\n",
       "      <td>Il1a</td>\n",
       "      <td>24.0</td>\n",
       "      <td>0.012121</td>\n",
       "    </tr>\n",
       "    <tr>\n",
       "      <th>6</th>\n",
       "      <td>Stat1</td>\n",
       "      <td>0.0</td>\n",
       "      <td>0.012121</td>\n",
       "    </tr>\n",
       "    <tr>\n",
       "      <th>7</th>\n",
       "      <td>Cxcl9</td>\n",
       "      <td>0.0</td>\n",
       "      <td>0.012121</td>\n",
       "    </tr>\n",
       "    <tr>\n",
       "      <th>9</th>\n",
       "      <td>Tap1</td>\n",
       "      <td>0.0</td>\n",
       "      <td>0.012121</td>\n",
       "    </tr>\n",
       "    <tr>\n",
       "      <th>10</th>\n",
       "      <td>H2-K1</td>\n",
       "      <td>0.0</td>\n",
       "      <td>0.012121</td>\n",
       "    </tr>\n",
       "    <tr>\n",
       "      <th>11</th>\n",
       "      <td>H2-Aa</td>\n",
       "      <td>0.0</td>\n",
       "      <td>0.012121</td>\n",
       "    </tr>\n",
       "    <tr>\n",
       "      <th>4</th>\n",
       "      <td>Lgals3</td>\n",
       "      <td>23.0</td>\n",
       "      <td>0.024242</td>\n",
       "    </tr>\n",
       "    <tr>\n",
       "      <th>5</th>\n",
       "      <td>Mal2</td>\n",
       "      <td>23.0</td>\n",
       "      <td>0.024242</td>\n",
       "    </tr>\n",
       "    <tr>\n",
       "      <th>8</th>\n",
       "      <td>Ifit1</td>\n",
       "      <td>1.0</td>\n",
       "      <td>0.024242</td>\n",
       "    </tr>\n",
       "    <tr>\n",
       "      <th>0</th>\n",
       "      <td>Ltf</td>\n",
       "      <td>22.0</td>\n",
       "      <td>0.048485</td>\n",
       "    </tr>\n",
       "    <tr>\n",
       "      <th>3</th>\n",
       "      <td>Slc6a14</td>\n",
       "      <td>22.0</td>\n",
       "      <td>0.048485</td>\n",
       "    </tr>\n",
       "    <tr>\n",
       "      <th>2</th>\n",
       "      <td>Cxcl2</td>\n",
       "      <td>17.0</td>\n",
       "      <td>0.375758</td>\n",
       "    </tr>\n",
       "  </tbody>\n",
       "</table>\n",
       "</div>"
      ],
      "text/plain": [
       "       Gene  U statistic   P-value\n",
       "1      Il1a         24.0  0.012121\n",
       "6     Stat1          0.0  0.012121\n",
       "7     Cxcl9          0.0  0.012121\n",
       "9      Tap1          0.0  0.012121\n",
       "10    H2-K1          0.0  0.012121\n",
       "11    H2-Aa          0.0  0.012121\n",
       "4    Lgals3         23.0  0.024242\n",
       "5      Mal2         23.0  0.024242\n",
       "8     Ifit1          1.0  0.024242\n",
       "0       Ltf         22.0  0.048485\n",
       "3   Slc6a14         22.0  0.048485\n",
       "2     Cxcl2         17.0  0.375758"
      ]
     },
     "execution_count": 28,
     "metadata": {},
     "output_type": "execute_result"
    }
   ],
   "source": [
    "# perform statistical testing for the above genes\n",
    "# Define your list of genes\n",
    "genes = ['Ltf','Il1a','Cxcl2','Slc6a14', 'Lgals3','Mal2',\n",
    "        'Stat1','Cxcl9', 'Ifit1', 'Tap1','H2-K1','H2-Aa'] \n",
    "\n",
    "# define condition groups\n",
    "subset_order = [\n",
    "    \"MOC1res + aPD1\",\n",
    "    \"MOC1res Elf3 KO + aPD1\"\n",
    "]\n",
    "\n",
    "# store results as a list\n",
    "results = []\n",
    "\n",
    "# loop through each gene and perform MWU test\n",
    "for gene in genes:\n",
    "    \n",
    "    # extract expression and group info\n",
    "    expr_df = adata.obs[['condition']].copy()\n",
    "    expr_df[gene] = list(adata[:, gene].X.flatten())\n",
    "    expr_df = expr_df[expr_df['condition'].isin(subset_order)]\n",
    "\n",
    "    # normalize to first group's mean\n",
    "    baseline_mean = expr_df.loc[expr_df['condition'] == subset_order[0], gene].mean()\n",
    "    expr_df[f'{gene}_norm'] = expr_df[gene] / baseline_mean\n",
    "\n",
    "    # get group values\n",
    "    group1 = expr_df.loc[expr_df['condition'] == subset_order[0], f'{gene}_norm']\n",
    "    group2 = expr_df.loc[expr_df['condition'] == subset_order[1], f'{gene}_norm']\n",
    "\n",
    "    # MWU test\n",
    "    stat, pval = mannwhitneyu(group1, group2, alternative='two-sided')\n",
    "\n",
    "    results.append({\n",
    "        'Gene': gene,\n",
    "        'U statistic': stat,\n",
    "        'P-value': pval\n",
    "    })\n",
    "\n",
    "# convert results to dataframe\n",
    "results_df = pd.DataFrame(results)\n",
    "results_df = results_df.sort_values('P-value')\n",
    "\n",
    "# display results\n",
    "results_df\n"
   ]
  }
 ],
 "metadata": {
  "kernelspec": {
   "display_name": "Python 3 (ipykernel)",
   "language": "python",
   "name": "python3"
  },
  "language_info": {
   "codemirror_mode": {
    "name": "ipython",
    "version": 3
   },
   "file_extension": ".py",
   "mimetype": "text/x-python",
   "name": "python",
   "nbconvert_exporter": "python",
   "pygments_lexer": "ipython3",
   "version": "3.12.5"
  }
 },
 "nbformat": 4,
 "nbformat_minor": 5
}
