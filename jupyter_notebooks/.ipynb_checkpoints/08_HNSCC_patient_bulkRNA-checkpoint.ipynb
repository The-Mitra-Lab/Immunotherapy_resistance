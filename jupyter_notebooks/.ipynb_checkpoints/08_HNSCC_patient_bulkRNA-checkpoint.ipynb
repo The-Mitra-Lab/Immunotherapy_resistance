{
 "cells": [
  {
   "attachments": {},
   "cell_type": "markdown",
   "id": "af114155-253e-449e-a750-3bcb8e49b19b",
   "metadata": {},
   "source": [
    "# 08. HNSCC patient bulk RNA-seq analysis\n",
    "\n",
    "This notebook provides the code necessary to reproduce figures pertaining to HNSCC pre-treatment RNA-seq. Data from [Uppaluri et al., 2020](https://aacrjournals.org/clincancerres/article-abstract/26/19/5140/82737/Neoadjuvant-and-Adjuvant-Pembrolizumab-in?redirectedFrom=fulltext), accessed through dbGaP (accession [phs002864](https://www.ncbi.nlm.nih.gov/projects/gap/cgi-bin/study.cgi?study_id=phs002864.v1.p1))."
   ]
  },
  {
   "cell_type": "code",
   "execution_count": 3,
   "id": "af33c938-0855-4948-8a19-884acb37a55f",
   "metadata": {},
   "outputs": [],
   "source": [
    "import pandas as pd\n",
    "import scanpy as sc\n",
    "from anndata import AnnData\n",
    "from pydeseq2.dds import DeseqDataSet\n",
    "from pydeseq2.ds import DeseqStats\n",
    "import pandas as p\n",
    "import matplotlib.pyplot as plt\n",
    "import seaborn as sns\n",
    "from scipy.stats import zscore\n",
    "from scipy.stats import ttest_ind\n",
    "import numpy as np\n",
    "from sklearn.metrics import roc_curve, roc_auc_score\n",
    "from scipy.stats import fisher_exact\n",
    "from scipy.stats import pearsonr\n",
    "from scipy.stats import mannwhitneyu"
   ]
  },
  {
   "cell_type": "markdown",
   "id": "e0faeabb-70ff-4a68-9132-f98c7c33b132",
   "metadata": {},
   "source": [
    "## 0. Format raw counts and convert to AnnData object"
   ]
  },
  {
   "cell_type": "code",
   "execution_count": 4,
   "id": "fd8cd49d-c5a8-46b2-924f-81b2180d4fd7",
   "metadata": {},
   "outputs": [
    {
     "data": {
      "text/plain": [
       "(22, 13)"
      ]
     },
     "execution_count": 4,
     "metadata": {},
     "output_type": "execute_result"
    }
   ],
   "source": [
    "# read the raw counts\n",
    "counts = pd.read_csv(\"/path/to/HnsccPembroCohort1_counts.tsv\", sep=\"\\t\", index_col=0)\n",
    "\n",
    "# filter lowly-expressed genes\n",
    "counts = counts[counts.sum(axis = 1) > 0]\n",
    "\n",
    "# transpose\n",
    "counts = counts.T\n",
    "\n",
    "# read in metadata\n",
    "metadata = pd.read_csv(\"/path/to/HnsccPembroCohort1_samples.tsv\", sep=\"\\t\")\n",
    "metadata = metadata.set_index('Patient ID')\n",
    "\n",
    "# create separate metadata sheets for pre- and post-treatment samples\n",
    "meta_pre = metadata[metadata['TIMEPOINT']=='pre']\n",
    "meta_post = metadata[metadata['TIMEPOINT']=='post']\n",
    "meta_pre.shape"
   ]
  },
  {
   "cell_type": "code",
   "execution_count": 5,
   "id": "fbe715de-8698-4d30-b55d-43609c79a05e",
   "metadata": {},
   "outputs": [],
   "source": [
    "# filter counts matrix for only pre-treatment samples\n",
    "counts_pre = counts[counts.index.isin(list(meta_pre['name']))]"
   ]
  },
  {
   "cell_type": "code",
   "execution_count": 6,
   "id": "68521a95-1679-4e26-bc7c-9f48c4d22285",
   "metadata": {},
   "outputs": [],
   "source": [
    "# check for any missed samples\n",
    "for i in meta_pre['name']:\n",
    "    if i not in counts_pre.index:\n",
    "        print(i)"
   ]
  },
  {
   "cell_type": "code",
   "execution_count": 7,
   "id": "bf3adbf8-77fc-47e2-ab5a-6e7df34d8e07",
   "metadata": {},
   "outputs": [],
   "source": [
    "meta_pre = meta_pre.set_index('name')"
   ]
  },
  {
   "cell_type": "code",
   "execution_count": 8,
   "id": "26683c9e-fc31-4a29-a713-853483681c19",
   "metadata": {},
   "outputs": [
    {
     "name": "stderr",
     "output_type": "stream",
     "text": [
      "/var/folders/5n/z6n7v0d52cz96tmj0j15w_g80000gn/T/ipykernel_60455/3305866953.py:2: UserWarning: Same factor names in the design contain underscores ('_'). They will\n",
      "                be converted to hyphens ('-').\n",
      "  dds = DeseqDataSet(\n",
      "Fitting size factors...\n",
      "... done in 0.01 seconds.\n",
      "\n",
      "Fitting dispersions...\n",
      "... done in 2.99 seconds.\n",
      "\n",
      "Fitting dispersion trend curve...\n",
      "/usr/local/Caskroom/mambaforge/base/envs/scrna/lib/python3.12/site-packages/pydeseq2/dds.py:715: UserWarning: The dispersion trend curve fitting did not converge. Switching to a mean-based dispersion trend.\n",
      "  self._fit_parametric_dispersion_trend(vst)\n",
      "... done in 0.47 seconds.\n",
      "\n",
      "Fitting MAP dispersions...\n",
      "... done in 3.54 seconds.\n",
      "\n",
      "Fitting LFCs...\n",
      "... done in 5.57 seconds.\n",
      "\n",
      "Calculating cook's distance...\n",
      "... done in 0.04 seconds.\n",
      "\n",
      "Replacing 2935 outlier genes.\n",
      "\n",
      "Fitting dispersions...\n",
      "... done in 0.31 seconds.\n",
      "\n",
      "Fitting MAP dispersions...\n",
      "... done in 0.36 seconds.\n",
      "\n",
      "Fitting LFCs...\n",
      "... done in 0.42 seconds.\n",
      "\n"
     ]
    }
   ],
   "source": [
    "# initialize DESeq2 for pre-treatment samples\n",
    "dds = DeseqDataSet(\n",
    "    counts=counts_pre,\n",
    "    metadata=meta_pre,\n",
    "    design_factors=\"path_resp\",\n",
    "    ref_level=(\"path_resp\",\"No\")\n",
    ")\n",
    "\n",
    "dds.deseq2()"
   ]
  },
  {
   "cell_type": "code",
   "execution_count": 9,
   "id": "c5aac2a3-3bf5-43cb-8726-d17c94437322",
   "metadata": {},
   "outputs": [
    {
     "data": {
      "text/plain": [
       "AnnData object with n_obs × n_vars = 22 × 39015\n",
       "    obs: 'Individual', 'extraction', 'extraction_label', 'SEQUENCING', 'TIMEPOINT', 'path_stage_group', 'ENE', 'path-resp', 'maj_path_resp', 't_cell_cd8', 'neutrophil', 'total_immune'\n",
       "    uns: 'mean_disp', 'disp_function_type', '_squared_logres', 'prior_disp_var'\n",
       "    obsm: 'design_matrix', 'size_factors', '_mu_LFC', '_hat_diagonals', 'replaceable'\n",
       "    varm: '_normed_means', 'non_zero', '_MoM_dispersions', 'genewise_dispersions', '_genewise_converged', 'fitted_dispersions', 'MAP_dispersions', '_MAP_converged', 'dispersions', '_outlier_genes', 'LFC', '_LFC_converged', 'replaced', 'refitted'\n",
       "    layers: 'normed_counts', '_mu_hat', 'cooks', 'replace_cooks'"
      ]
     },
     "execution_count": 9,
     "metadata": {},
     "output_type": "execute_result"
    }
   ],
   "source": [
    "dds"
   ]
  },
  {
   "cell_type": "code",
   "execution_count": 10,
   "id": "6e4c5b97-110d-4e38-915d-428348d6934e",
   "metadata": {},
   "outputs": [],
   "source": [
    "# create a size-factor normalized gene expression matrix\n",
    "dds_obs_df = pd.DataFrame(dds.obs)\n",
    "dds_var_df = pd.DataFrame(dds.var)\n",
    "dds_matrix_df = pd.DataFrame(dds.layers['normed_counts'], index=dds.obs.index, columns=dds.var.index)\n",
    "\n",
    "norm_counts_pre = pd.concat([dds_obs_df, dds_matrix_df], axis=1)"
   ]
  },
  {
   "cell_type": "code",
   "execution_count": 11,
   "id": "0382cdd4-72c1-42ec-a0fb-95a41a492df9",
   "metadata": {},
   "outputs": [],
   "source": [
    "# store normalized counts in an AnnData object\n",
    "adata = sc.AnnData(norm_counts_pre.iloc[:, 11:])\n",
    "adata.obs = meta_pre"
   ]
  },
  {
   "cell_type": "code",
   "execution_count": 12,
   "id": "41d072ba-0794-4cd0-b009-1d2c89427933",
   "metadata": {},
   "outputs": [],
   "source": [
    "# keep only RNA-seq samples\n",
    "adata = adata[adata.obs['SEQUENCING']!='cDNAcap']"
   ]
  },
  {
   "cell_type": "code",
   "execution_count": 13,
   "id": "dce1901e-2795-4c34-bf2f-6cd4ce9594c3",
   "metadata": {},
   "outputs": [],
   "source": [
    "dds_obs_df = pd.DataFrame(dds.obs)\n",
    "dds_var_df = pd.DataFrame(dds.var)\n",
    "dds_matrix_df = pd.DataFrame(dds.layers['normed_counts'], index=dds.obs.index, columns=dds.var.index)\n",
    "\n",
    "norm_counts = pd.concat([dds_obs_df, dds_matrix_df], axis=1)"
   ]
  },
  {
   "cell_type": "markdown",
   "id": "0dc4d41c-39fa-4889-bf64-0deb7eef5acf",
   "metadata": {},
   "source": [
    "## 1. Plot ELF3 expression by response status"
   ]
  },
  {
   "cell_type": "code",
   "execution_count": 14,
   "id": "cd2ad02a-d104-4515-92da-a1dc62e97694",
   "metadata": {},
   "outputs": [],
   "source": [
    "# define transcriptional programs\n",
    "icb_res = [\n",
    "    \"PRSS27\", \"ELF3\", \"DESI1\", \"LTF\", \"PGLYRP4\", \"PDZK1IP1\", \"SPNS2\", \"PSCA\", \"PRSS22\", \"TMPRSS11G\",\n",
    "    \"GSTO1\", \"KRT19\", \"MUC20\", \"TSPAN1\", \"DUOXA2\", \"TMEM242\", \"TMC5\", \"ECM1\", \"CBLC\", \"CCDC129\", \n",
    "    \"PRSS27P\", \"CAPN5\", \"GLRX\", \"SPNS3\", \"TMPRSS11E\", \"ZSCAN32\", \"TP53INP2\", \"SLC6A14\", \"DYNAP\", \n",
    "    \"DUSP4\", \"CLDN23\", \"CCDC69\", \"CLIC5\", \"GRPEL2\", \"APOL7B\", \"GDE1\", \"MAL\", \"DUOX2\", \"NUPR1\", \n",
    "    \"CLDN1\", \"P2RY2\", \"IRF7\", \"S100A14\", \"CDKN2B\", \"MALL\", \"PLEKHS1\", \"AC168977.1\", \"MUC4\", \"FXYD4\", \n",
    "    \"LY6G6D\", \"TRIM15\", \"MAL2\", \"WNT7B\", \"IFT22\", \"PLET1\", \"PPBP\", \"HIST1H1C\", \"CRYBA4\", \"KRT7\", \"HSD17B7\", \n",
    "    \"CLCA1\", \"TMPRSS11F\", \"SERPINB9\", \"CCDC186\", \"MYZAP\", \"SLC9A3R1\", \"PTTG1IP\", \"SLC28A3\", \"CIDEA\", \n",
    "    \"TMEM190\", \"PCDH11Y\", \"ARG1\", \"4930459C07RIK\", \"BSPRY\", \"CCDC12\", \"PIGR\", \"KRT23\", \"1810044K17RIK\", \n",
    "    \"CYP2D6\", \"PBP2\", \"CXCL5\", \"TMPRSS4\", \"LPCAT4\", \"CCDC71L\", \"ARHGAP27OS1\", \"EPS8L2\", \"TMPRSS11B\", \n",
    "    \"SERPINB9\", \"CSF3\", \"IFIT1\", \"LIPH\", \"EPHB3\", \"AA986860\", \"LGALS3\", \"RASSF7\", \"GRHL1\", \n",
    "    \"GFPT1\", \"TRIM16\", \"SPRR2D\"\n",
    "]\n",
    "\n",
    "ifn_resp = [\n",
    "    \"GBP6\", \"GBP2\", \"IIGP1\", \"CNTN1\", \"TMEM226\", \"OR56A4\", \"MILL1\", \"CXCL10\", \"GBP4\", \"IFIT3\", \n",
    "    \"APOL10\", \"IFI47\", \"GBP5\", \"SLCO2A1\", \"PRL\", \"GREB1L\", \"GBP8\", \"CCL7\", \"TMEM121\", \"ZBED2\", \n",
    "    \"APOL9\", \"GPR176\", \"ADGRB3\", \"PRL\", \"CCL2\", \"RGS4\", \"IFIT1\", \"SERPINA3\", \"IRF1\", \"ASIC2\", \n",
    "    \"CXCL9\", \"MS4A4A\", \"IFIH1\", \"ZBTB8B\", \"ALOX12\", \"NRG1\", \"GHR\", \"GRIN2D\", \"CLIC4\", \"ROBO2\", \n",
    "    \"CCDC166\", \"LAMA3\", \"FAM126A\", \"ERLIN2\", \"GNB4\", \"AMMECR1\", \"ZC3H12C\", \"PRL\", \"SAMD5\", \n",
    "    \"FCGBP\", \"PLCB1\", \"FLNB\", \"CYP7B1\", \"IL24\", \"ALOX15\", \"IFIT3\", \"NCAM1\", \"CSPR2\", \"CD44\", \n",
    "    \"IL18R1\", \"SERPINB2\", \"EFEMP1\", \"TENM1\", \"CCL8\", \"SLC6A4\", \"HAS2\", \"UBD\", \"NPPB\", \"CCL11\", \n",
    "    \"FAP\", \"PCDH7\", \"IGFN1\", \"IFI16\", \"TNC\", \"MAJIN\", \"CSMD1\", \"ROBO1\", \"VCAM1\", \"IRF7\", \n",
    "    \"ZC3H12A\", \"NPAS3\", \"ITGB6\", \"DCLK1\", \"NEK10\", \"LY75\", \"CFAP47\", \"SLC4A7\", \"VEGFC\", \n",
    "    \"CNGA1\", \"HCN1\", \"SYT1\", \"SLCO1A2\", \"GDNF\", \"TENM3\", \"ERC1\", \"SKINT3\", \"PDLIM1\", \n",
    "    \"DNAH8\", \"CSNK1G3\", \"TNIP3\"\n",
    "]\n",
    "\n",
    "ELF3 = ['ELF3']"
   ]
  },
  {
   "cell_type": "code",
   "execution_count": 15,
   "id": "7561e99d-0f46-4aea-bf1c-7d9473a272d0",
   "metadata": {},
   "outputs": [
    {
     "name": "stdout",
     "output_type": "stream",
     "text": [
      "WARNING: genes are not in var_names and ignored: Index(['TMPRSS11G', 'PRSS27P', 'APOL7B', 'AC168977.1', '4930459C07RIK',\n",
      "       '1810044K17RIK', 'PBP2', 'ARHGAP27OS1', 'AA986860'],\n",
      "      dtype='object')\n",
      "WARNING: genes are not in var_names and ignored: Index(['IIGP1', 'TMEM226', 'MILL1', 'APOL10', 'IFI47', 'GBP8', 'APOL9',\n",
      "       'ADGRB3', 'CSPR2', 'MAJIN', 'CFAP47', 'SKINT3'],\n",
      "      dtype='object')\n"
     ]
    },
    {
     "name": "stderr",
     "output_type": "stream",
     "text": [
      "/usr/local/Caskroom/mambaforge/base/envs/scrna/lib/python3.12/site-packages/scanpy/tools/_score_genes.py:176: ImplicitModificationWarning: Trying to modify attribute `.obs` of view, initializing view as actual.\n",
      "  adata.obs[score_name] = pd.Series(\n"
     ]
    }
   ],
   "source": [
    "# score each sample for each geneset\n",
    "sc.tl.score_genes(adata, icb_res, score_name='icb_res')\n",
    "sc.tl.score_genes(adata, ifn_resp, score_name='ifn_resp')\n",
    "sc.tl.score_genes(adata, ELF3, score_name='ELF3')"
   ]
  },
  {
   "cell_type": "code",
   "execution_count": 24,
   "id": "18210ca7-d9dd-4a44-8afa-dfe7f2ea0246",
   "metadata": {},
   "outputs": [
    {
     "data": {
      "image/png": "[encoded data removed]",
      "text/plain": [
       "<Figure size 200x200 with 1 Axes>"
      ]
     },
     "metadata": {},
     "output_type": "display_data"
    }
   ],
   "source": [
    "# plot ELF3 expression score\n",
    "\n",
    "# extract ELF3 expression from adata.X and store in adata.obs\n",
    "elf3_expr = adata.X[:, adata.var_names.get_loc('ELF3')]\n",
    "elf3_expr = elf3_expr.toarray().flatten() if hasattr(elf3_expr, \"toarray\") else elf3_expr\n",
    "adata.obs['ELF3_expr'] = elf3_expr\n",
    "\n",
    "# define groups for comparison\n",
    "group1 = adata.obs[adata.obs['path_resp'] == 'Yes']['ELF3_expr']\n",
    "group2 = adata.obs[adata.obs['path_resp'] == 'No']['ELF3_expr']\n",
    "\n",
    "\n",
    "# create plot\n",
    "plt.figure(figsize=(2, 2))\n",
    "ax = sns.boxplot(x='path_resp', y='ELF3_expr', data=adata.obs, order=condition_order, palette=treatment_palette, fliersize = 0)\n",
    "sns.swarmplot(x='path_resp', y='ELF3_expr', data=adata.obs, color=\"black\", size=4)\n",
    "plt.xticks(np.arange(len(custom_labels)), custom_labels)\n",
    "\n",
    "# set axis preferences\n",
    "ax.spines['top'].set_visible(False)\n",
    "ax.spines['right'].set_visible(False)\n",
    "\n",
    "plt.tight_layout()\n",
    "plt.xlabel('')\n",
    "plt.ylabel('')\n",
    "plt.xticks(np.arange(len(custom_labels)), [''] * len(custom_labels)) \n",
    "plt.savefig('ELF3_pathresp.png', dpi = 600)\n",
    "plt.show()"
   ]
  },
  {
   "cell_type": "code",
   "execution_count": 22,
   "id": "a1c9fa1d-8f57-4584-9f95-fea7d18e50de",
   "metadata": {},
   "outputs": [
    {
     "name": "stdout",
     "output_type": "stream",
     "text": [
      "-3.3528341841252303\n",
      "0.0043050360030864425\n"
     ]
    }
   ],
   "source": [
    "# perform t test\n",
    "stat, p_val = ttest_ind(group1, group2, equal_var=False)\n",
    "print(stat)\n",
    "print(p_val)"
   ]
  },
  {
   "cell_type": "markdown",
   "id": "313cfc21-4d68-4039-9814-b8396d1b1a3c",
   "metadata": {},
   "source": [
    "## 2. Plot CD8 T cell vs. ELF3 expression score"
   ]
  },
  {
   "cell_type": "code",
   "execution_count": 21,
   "id": "62469926-6bd5-449c-882f-dd7419cd624b",
   "metadata": {},
   "outputs": [],
   "source": [
    "# read in raw counts\n",
    "counts = pd.read_csv(\"/path/to/HnsccPembroCohort1_counts.tsv\", sep=\"\\t\", index_col=0)\n",
    "\n",
    "# read in metadata\n",
    "metadata = pd.read_csv(\"/path/to/HnsccPembroCohort1_samples.tsv\", sep=\"\\t\")\n",
    "\n",
    "# ensure sample names match the counts matrix column names\n",
    "metadata = metadata.set_index(\"name\")  # 'name' column matches column names in counts\n",
    "\n",
    "# reorder metadata to match the order of columns in the counts matrix\n",
    "metadata = metadata.loc[counts.columns]\n",
    "\n",
    "# convert to AnnData object\n",
    "adata = AnnData(X=counts.T, obs=metadata)\n"
   ]
  },
  {
   "cell_type": "code",
   "execution_count": 22,
   "id": "9591d987-77a8-4cc2-9f13-feb83b67513f",
   "metadata": {},
   "outputs": [],
   "source": [
    "adata.var_names = counts.index"
   ]
  },
  {
   "cell_type": "code",
   "execution_count": 23,
   "id": "b93ce9e6-5834-4a50-9853-ea8dc3086b45",
   "metadata": {},
   "outputs": [],
   "source": [
    "adata = adata[adata.obs['SEQUENCING']!='cDNAcap']"
   ]
  },
  {
   "cell_type": "code",
   "execution_count": 24,
   "id": "56bf8b54-6b58-42e4-8fe1-8b5c0ca1835c",
   "metadata": {},
   "outputs": [
    {
     "name": "stderr",
     "output_type": "stream",
     "text": [
      "Fitting size factors...\n",
      "... done in 0.04 seconds.\n",
      "\n",
      "Fitting dispersions...\n",
      "... done in 2.82 seconds.\n",
      "\n",
      "Fitting dispersion trend curve...\n",
      "... done in 0.55 seconds.\n",
      "\n",
      "Fitting MAP dispersions...\n",
      "... done in 3.45 seconds.\n",
      "\n",
      "Fitting LFCs...\n",
      "... done in 2.03 seconds.\n",
      "\n",
      "Calculating cook's distance...\n",
      "... done in 0.06 seconds.\n",
      "\n",
      "Replacing 2386 outlier genes.\n",
      "\n",
      "Fitting dispersions...\n",
      "... done in 0.22 seconds.\n",
      "\n",
      "Fitting MAP dispersions...\n",
      "... done in 0.23 seconds.\n",
      "\n",
      "Fitting LFCs...\n",
      "... done in 0.17 seconds.\n",
      "\n"
     ]
    }
   ],
   "source": [
    "# extract counts and metadata\n",
    "counts_df = pd.DataFrame(adata.X.T, index=adata.var_names, columns=adata.obs_names).astype(int)\n",
    "col_data = adata.obs.copy()\n",
    "\n",
    "# transpose counts\n",
    "counts_df_T = counts_df.T\n",
    "\n",
    "# re-index metadata to match counts\n",
    "metadata = metadata.reindex(counts_df_T.index)\n",
    "\n",
    "# set condition for design factor to pre- vs post-treatment\n",
    "# this is essentially a dummy variable because we will\n",
    "# not be performing differential expression analysis\n",
    "metadata[\"condition\"] = metadata[\"TIMEPOINT\"]\n",
    "\n",
    "# initialize DESeq2\n",
    "dds = DeseqDataSet(\n",
    "    counts=counts_df_T,\n",
    "    metadata=metadata,\n",
    "    design_factors=\"condition\",\n",
    "    ref_level=(\"condition\", \"pre\")  \n",
    ")\n",
    "\n",
    "dds.deseq2()"
   ]
  },
  {
   "cell_type": "code",
   "execution_count": 25,
   "id": "8b2556fd-a896-467f-950d-68b3ca53cd8e",
   "metadata": {},
   "outputs": [],
   "source": [
    "# create normalized counts matrix\n",
    "dds_obs_df = pd.DataFrame(dds.obs)\n",
    "dds_var_df = pd.DataFrame(dds.var)\n",
    "dds_matrix_df = pd.DataFrame(dds.layers['normed_counts'], index=dds.obs.index, columns=dds.var.index)\n",
    "\n",
    "norm_counts = pd.concat([dds_obs_df, dds_matrix_df], axis=1)"
   ]
  },
  {
   "cell_type": "code",
   "execution_count": 26,
   "id": "deb1dd8e-8f81-4c37-8dcd-69a683d6b3de",
   "metadata": {},
   "outputs": [],
   "source": [
    "# make sure gene order is preserved\n",
    "assert all(adata.var_names == dds_matrix_df.columns), \"Gene order mismatch!\""
   ]
  },
  {
   "cell_type": "code",
   "execution_count": 27,
   "id": "c5426aba-718d-4886-a470-13f2c6129e65",
   "metadata": {},
   "outputs": [
    {
     "name": "stderr",
     "output_type": "stream",
     "text": [
      "/var/folders/5n/z6n7v0d52cz96tmj0j15w_g80000gn/T/ipykernel_57495/1265695218.py:2: ImplicitModificationWarning: Setting element `.layers['norm_counts']` of view, initializing view as actual.\n",
      "  adata.layers[\"norm_counts\"] = dds_matrix_df.loc[adata.obs_names, adata.var_names].values\n"
     ]
    }
   ],
   "source": [
    "# add normalized counts as new layer to adata\n",
    "adata.layers[\"norm_counts\"] = dds_matrix_df.loc[adata.obs_names, adata.var_names].values\n"
   ]
  },
  {
   "cell_type": "code",
   "execution_count": 28,
   "id": "50334eda-3ef6-4ae1-855e-5393d9d2fe04",
   "metadata": {},
   "outputs": [
    {
     "name": "stdout",
     "output_type": "stream",
     "text": [
      "WARNING: genes are not in var_names and ignored: Index(['TMPRSS11G', 'PRSS27P', 'APOL7B', 'AC168977.1', '4930459C07RIK',\n",
      "       '1810044K17RIK', 'PBP2', 'ARHGAP27OS1', 'AA986860'],\n",
      "      dtype='object')\n"
     ]
    }
   ],
   "source": [
    "# score ELF3 and ICB-resistance program expression\n",
    "sc.tl.score_genes(adata, icb_res, score_name='icb_res')\n",
    "sc.tl.score_genes(adata, ELF3, score_name='ELF3_score')"
   ]
  },
  {
   "cell_type": "code",
   "execution_count": 29,
   "id": "51c72ff5-0dbb-44e5-8ba4-fd4ce0d5ce88",
   "metadata": {},
   "outputs": [
    {
     "name": "stdout",
     "output_type": "stream",
     "text": [
      "Optimal Elf3 cut = -919.6\n",
      "Optimal CD8 cut = 0.13\n"
     ]
    },
    {
     "data": {
      "image/png": "[encoded data removed]",
      "text/plain": [
       "<Figure size 250x250 with 1 Axes>"
      ]
     },
     "metadata": {},
     "output_type": "display_data"
    },
    {
     "name": "stdout",
     "output_type": "stream",
     "text": [
      "Fisher exact p = 0.000516,   odds ratio = inf\n"
     ]
    }
   ],
   "source": [
    "# subset adata to only pre-treatment samples\n",
    "pre = adata.obs[adata.obs[\"TIMEPOINT\"] == \"pre\"].copy()\n",
    "\n",
    "# calculate optimal cutoffs for response prediction\n",
    "\n",
    "# find ELF3 cutoff that maximizes tpr - fpr (i.e. Younen index) for non-response\n",
    "y_nonresp = (pre[\"path_resp\"] == \"No\").astype(int)\n",
    "fpr, tpr, thr = roc_curve(y_nonresp, pre[\"ELF3_score\"])\n",
    "ELF3_HIGH_CUT = thr[np.argmax(tpr - fpr)]\n",
    "\n",
    "# find CD8 score cutoff that maximizes Younen index for response\n",
    "y_resp = (pre[\"path_resp\"] == \"Yes\").astype(int)\n",
    "fpr_i, tpr_i, thr_i = roc_curve(y_resp, pre[\"t_cell_cd8\"])\n",
    "IMMUNE_HOT_CUT = thr_i[np.argmax(tpr_i - fpr_i)]\n",
    "\n",
    "print(f\"Optimal Elf3 cut = {ELF3_HIGH_CUT:0.1f}\")\n",
    "print(f\"Optimal CD8 cut = {IMMUNE_HOT_CUT:0.2f}\")\n",
    "\n",
    "# annotate data with cutoffs\n",
    "pre[\"Elf3_high\"]   = pre[\"ELF3_score\"]   >= ELF3_HIGH_CUT\n",
    "pre[\"Immune_hot\"]  = pre[\"t_cell_cd8\"] >= IMMUNE_HOT_CUT\n",
    "\n",
    "def decision(entry):\n",
    "    if entry.Elf3_high:      return \"Predicted Non‑resp\"\n",
    "    if entry.Immune_hot:     return \"Predicted Resp\"\n",
    "    return \"Predicted Non‑resp\"\n",
    "\n",
    "pre[\"response_call\"] = pre.apply(decision, axis=1)\n",
    "\n",
    "# plot CD8 and ELF3 scores with response status\n",
    "\n",
    "plt.figure(figsize=(2.5, 2.5))\n",
    "palette = {\"Yes\": \"limegreen\", \"No\": \"red\"}\n",
    "\n",
    "sns.scatterplot(data=pre,\n",
    "                x=\"ELF3_score\", y=\"t_cell_cd8\",\n",
    "                hue=\"path_resp\",\n",
    "                palette=palette,\n",
    "                markers=\"o\",\n",
    "                edgecolor=\"black\", s=30)\n",
    "\n",
    "# define quadrants by cutoffs\n",
    "plt.axvline(ELF3_HIGH_CUT, ls=\"--\", lw=2, color='black')\n",
    "plt.axhline(IMMUNE_HOT_CUT, ls=\"--\", lw=2, color='black')\n",
    "\n",
    "# format plot\n",
    "plt.xlabel(\"\")\n",
    "plt.ylabel(\"\")\n",
    "plt.title(\"\")\n",
    "\n",
    "ax = plt.gca()  \n",
    "for spine in ax.spines.values():\n",
    "    spine.set_edgecolor(\"black\")\n",
    "    spine.set_linewidth(1.2) \n",
    "plt.tight_layout()\n",
    "plt.legend([],[], frameon=False)\n",
    "\n",
    "plt.show()\n",
    "\n",
    "# perform statistical testing\n",
    "ct = pd.crosstab(pre[\"response_call\"], pre[\"path_resp\"])\n",
    "odds, p = fisher_exact(ct)\n",
    "print(f\"Fisher exact p = {p:0.3g},   odds ratio = {odds:0.2f}\")"
   ]
  },
  {
   "cell_type": "markdown",
   "id": "00b6aea9-d7a9-4ef5-8e85-0b45ccdf32e4",
   "metadata": {},
   "source": [
    "## 3. Plot Neutrophil and CD8 T cell cytotoxicity signatures"
   ]
  },
  {
   "cell_type": "code",
   "execution_count": 30,
   "id": "bc92064f-e805-498d-8b5a-d8a25f42385e",
   "metadata": {},
   "outputs": [],
   "source": [
    "# define signatures\n",
    "n2_neutrophil_signature = [\n",
    "  \"ARG1\",\"CXCL8\",\"VEGFA\",\"IL1RN\",\"S100A9\",\"CEACAM1\",\"ANXA1\",\"SLPI\",\"MPO\"\n",
    "]\n",
    "\n",
    "cd8_cytotoxic_signature = [\n",
    "  \"GZMB\",\"GZMA\",\"PRF1\",\"GNLY\",\"IFNG\",\"CD8A\",\"CD8B\",\"PDCD1\",\"TOX\",\"IL2\",\n",
    "    \"CD69\",\"CTLA4\",\"TIGIT\"\n",
    "]"
   ]
  },
  {
   "cell_type": "code",
   "execution_count": 31,
   "id": "85ae6f1e-b199-4b34-89fb-3b7ed8f44df4",
   "metadata": {},
   "outputs": [],
   "source": [
    "# define function for simple gene expression scoring\n",
    "def score_signature(\n",
    "    adata, \n",
    "    gene_list, \n",
    "    score_name=\"signature_score\", \n",
    "    layer=\"norm_counts\", \n",
    "    groupby=\"path_resp\", \n",
    "    figsize=(4, 4), \n",
    "    savefig=False\n",
    "):\n",
    "\n",
    "    valid_genes = [g for g in gene_list if g in adata.var_names]\n",
    "    if not valid_genes:\n",
    "        raise ValueError(\"gene name error\")\n",
    "\n",
    "    # score by mean expression\n",
    "    score_matrix = adata[:, valid_genes].layers[layer]\n",
    "    adata.obs[score_name] = score_matrix.mean(axis=1)"
   ]
  },
  {
   "cell_type": "code",
   "execution_count": 32,
   "id": "d1effdc7-3cba-4b99-9e16-e11e09fe407d",
   "metadata": {},
   "outputs": [],
   "source": [
    "score_signature(\n",
    "    adata,\n",
    "    gene_list=n2_neutrophil_signature,\n",
    "    score_name=\"n2_neutrophil_signature\",\n",
    "    layer=\"norm_counts\"\n",
    ")\n",
    "\n",
    "score_signature(\n",
    "    adata,\n",
    "    gene_list=ELF3,\n",
    "    score_name=\"ELF3_score\",\n",
    "    layer=\"norm_counts\"\n",
    ")\n",
    "\n",
    "score_signature(\n",
    "    adata,\n",
    "    gene_list=cd8_cytotoxic_signature,\n",
    "    score_name=\"cd8_cytotoxic_signature\",\n",
    "    layer=\"norm_counts\"\n",
    ")\n",
    "\n",
    "score_signature(\n",
    "    adata,\n",
    "    gene_list=icb_res,\n",
    "    score_name=\"icb_res_score\",\n",
    "    layer=\"norm_counts\"\n",
    ")"
   ]
  },
  {
   "cell_type": "code",
   "execution_count": 33,
   "id": "56188b92-05be-41fc-a7bf-e3f5faee8a7e",
   "metadata": {},
   "outputs": [
    {
     "data": {
      "image/png": "[encoded data removed]",
      "text/plain": [
       "<Figure size 300x300 with 1 Axes>"
      ]
     },
     "metadata": {},
     "output_type": "display_data"
    }
   ],
   "source": [
    "# plot N2 neutrophil signature as a function of ICB-resistance score\n",
    "\n",
    "# extract data from adata\n",
    "x = adata.obs[\"icb_res_score\"]\n",
    "y = adata.obs[\"n2_neutrophil_signature\"]\n",
    "\n",
    "# pearson correlation\n",
    "r, pval = pearsonr(x, y)\n",
    "\n",
    "# plot\n",
    "plt.figure(figsize=(3, 3))\n",
    "sns.regplot(\n",
    "    x=x, y=y,\n",
    "    scatter_kws={\"s\": 30, \"alpha\": 0.6, \"color\": \"black\"},\n",
    "    line_kws={\"color\": \"blue\"}\n",
    ")\n",
    "\n",
    "# format plot\n",
    "plt.grid(False)\n",
    "plt.gca().spines['top'].set_color('black')\n",
    "plt.gca().spines['right'].set_color('black')\n",
    "plt.gca().spines['bottom'].set_color('black')\n",
    "plt.gca().spines['left'].set_color('black')\n",
    "plt.tick_params(axis='both', colors='black')\n",
    "plt.xlabel(\"ICB_res\", color='black')\n",
    "plt.ylabel(\"N2 Neutrophil\", color='black')\n",
    "plt.title(f\"Pearson r = {r:.2f}, p = {pval:.2e}\", color='black')\n",
    "\n",
    "plt.tight_layout()\n",
    "\n",
    "plt.show()"
   ]
  },
  {
   "cell_type": "code",
   "execution_count": 34,
   "id": "e26861e8-23fa-4291-894c-1ddc9fe47ed3",
   "metadata": {},
   "outputs": [
    {
     "data": {
      "image/png": "[encoded data removed]",
      "text/plain": [
       "<Figure size 300x300 with 1 Axes>"
      ]
     },
     "metadata": {},
     "output_type": "display_data"
    }
   ],
   "source": [
    "# plot CD8 cytotoxicity score as a function of ICB-resistance signature\n",
    "x = adata.obs[\"icb_res_score\"]\n",
    "y = adata.obs[\"cd8_cytotoxic_signature\"]\n",
    "\n",
    "# pearson correlation\n",
    "r, pval = pearsonr(x, y)\n",
    "\n",
    "# plot\n",
    "plt.figure(figsize=(3, 3))\n",
    "sns.regplot(\n",
    "    x=x, y=y,\n",
    "    scatter_kws={\"s\": 30, \"alpha\": 0.6, \"color\": \"black\"},\n",
    "    line_kws={\"color\": \"blue\"}\n",
    ")\n",
    "\n",
    "# format plot\n",
    "plt.grid(False)\n",
    "plt.gca().spines['top'].set_color('black')\n",
    "plt.gca().spines['right'].set_color('black')\n",
    "plt.gca().spines['bottom'].set_color('black')\n",
    "plt.gca().spines['left'].set_color('black')\n",
    "plt.tick_params(axis='both', colors='black')\n",
    "plt.xlabel(\"ICB_res\", color='black')\n",
    "plt.ylabel(\"CD8 score\", color='black')\n",
    "plt.title(f\"Pearson r = {r:.2f}, p = {pval:.2e}\", color='black')\n",
    "ax = plt.gca()\n",
    "\n",
    "ax.tick_params(\n",
    "    axis=\"both\",          # x and y\n",
    "    which=\"both\",         # major and minor ticks\n",
    "    direction=\"out\",      # point outward\n",
    "    length=5,             # 5‑pt long ticks  (adjust to taste)\n",
    "    width=1,              # line width\n",
    "    colors=\"black\"        # tick colour\n",
    ")\n",
    "plt.tight_layout()\n",
    "\n",
    "plt.show()"
   ]
  }
 ],
 "metadata": {
  "kernelspec": {
   "display_name": "Python 3 (ipykernel)",
   "language": "python",
   "name": "python3"
  },
  "language_info": {
   "codemirror_mode": {
    "name": "ipython",
    "version": 3
   },
   "file_extension": ".py",
   "mimetype": "text/x-python",
   "name": "python",
   "nbconvert_exporter": "python",
   "pygments_lexer": "ipython3",
   "version": "3.12.5"
  }
 },
 "nbformat": 4,
 "nbformat_minor": 5
}
