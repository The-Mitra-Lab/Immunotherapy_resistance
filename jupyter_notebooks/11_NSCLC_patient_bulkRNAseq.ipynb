{
 "cells": [
  {
   "cell_type": "markdown",
   "id": "50964473-c089-4cb6-ab84-b28b973631d0",
   "metadata": {},
   "source": [
    "# Analysis of bulk RNA-seq dataset of 27 NSCLC cancer patients receiving ICB\n",
    "\n",
    "Data was obtained from [Jung et al., 2019](https://www.nature.com/articles/s41467-019-12159-9#Sec24) associated GEO [GSE135222](https://www.ncbi.nlm.nih.gov/geo/query/acc.cgi?acc=GSE135222)."
   ]
  },
  {
   "cell_type": "code",
   "execution_count": 1,
   "id": "045875a5-9431-4975-9704-d41c0b4b84e8",
   "metadata": {},
   "outputs": [],
   "source": [
    "import pandas as pd\n",
    "import scanpy as sc\n",
    "from pydeseq2.dds import DeseqDataSet\n",
    "from pydeseq2.ds import DeseqStats\n",
    "import matplotlib.pyplot as plt\n",
    "import seaborn as sns\n",
    "from matplotlib.lines import Line2D\n",
    "import numpy as np\n",
    "from scipy.stats import mannwhitneyu\n",
    "from scipy.stats import ttest_ind\n",
    "from lifelines import KaplanMeierFitter\n",
    "from lifelines.statistics import logrank_test\n",
    "from lifelines import CoxPHFitter\n",
    "from scipy.stats import spearmanr"
   ]
  },
  {
   "cell_type": "markdown",
   "id": "202c2e8f-83f0-45c0-99bb-28e38b1de0f6",
   "metadata": {},
   "source": [
    "## 0. Read in files and format"
   ]
  },
  {
   "cell_type": "code",
   "execution_count": 2,
   "id": "137430e9-c573-4ad5-9c93-f4ffd417b549",
   "metadata": {},
   "outputs": [],
   "source": [
    "# read in expression matrix\n",
    "exmat = pd.read_csv(\"/path/to/GSE135222_raw_counts_GRCh38.p13_NCBI.tsv\", sep='\\t')\n",
    "\n",
    "# set gene names as index\n",
    "exmat = exmat.set_index(\"GeneID\")\n",
    "X = exmat.T\n",
    "\n",
    "# read in metadata\n",
    "meta = pd.read_csv(\"/path/to/lung_metadata.csv\")\n",
    "meta = meta.set_index(\"GSM\")"
   ]
  },
  {
   "cell_type": "code",
   "execution_count": 3,
   "id": "bdf4827b-e5c8-4c47-8bb9-68c9607b6a6d",
   "metadata": {},
   "outputs": [],
   "source": [
    "# convert gene ID to gene symbol\n",
    "\n",
    "gene_convert = pd.read_csv('/path/to/fData_IMvigor210.csv')\n",
    "\n",
    "gene_convert = gene_convert.set_index(\"entrez_id\")\n",
    "\n",
    "id2sym = gene_convert[\"symbol\"].dropna().astype(str).to_dict()\n",
    "\n",
    "exmat_sym = exmat.rename(index=id2sym)\n",
    "\n",
    "X = exmat_sym.T"
   ]
  },
  {
   "cell_type": "code",
   "execution_count": 4,
   "id": "fb00ab76-6f13-4e6b-b9ae-be8580f0d9aa",
   "metadata": {},
   "outputs": [],
   "source": [
    "# set sample IDs as index in metadata\n",
    "meta.index.name = \"sample_id\"\n",
    "\n",
    "# transpose X so samples are rows, genes are columns\n",
    "X_t = X.T  \n",
    "\n",
    "# ensure both datasets have the same sample order\n",
    "common_samples = X_t.columns.intersection(meta.index)\n",
    "\n",
    "X_t = X_t[common_samples]\n",
    "meta_aligned = meta.loc[common_samples]"
   ]
  },
  {
   "cell_type": "markdown",
   "id": "692f5aa2-987e-477b-a884-7233bb856e2e",
   "metadata": {},
   "source": [
    "## 1. Perform DESeq to obtain size-factor normalized expression matrix"
   ]
  },
  {
   "cell_type": "code",
   "execution_count": 5,
   "id": "edf85d8d-2795-4abf-a6e8-aa363686c6e1",
   "metadata": {},
   "outputs": [
    {
     "name": "stderr",
     "output_type": "stream",
     "text": [
      "/usr/local/Caskroom/mambaforge/base/envs/scrna/lib/python3.12/site-packages/anndata/_core/aligned_df.py:68: ImplicitModificationWarning: Transforming to str index.\n",
      "  warnings.warn(\"Transforming to str index.\", ImplicitModificationWarning)\n"
     ]
    }
   ],
   "source": [
    "# initialize deseq\n",
    "dds = DeseqDataSet(\n",
    "    counts=X,\n",
    "    metadata=meta_aligned,\n",
    "    design_factors=\"Response\"\n",
    ")"
   ]
  },
  {
   "cell_type": "code",
   "execution_count": 6,
   "id": "e2321516-6d4c-4eec-9fc5-d1c3c984f5bb",
   "metadata": {},
   "outputs": [
    {
     "name": "stderr",
     "output_type": "stream",
     "text": [
      "Fitting size factors...\n",
      "... done in 0.03 seconds.\n",
      "\n",
      "Fitting dispersions...\n",
      "... done in 3.39 seconds.\n",
      "\n",
      "Fitting dispersion trend curve...\n",
      "... done in 0.59 seconds.\n",
      "\n",
      "Fitting MAP dispersions...\n",
      "... done in 4.01 seconds.\n",
      "\n",
      "Fitting LFCs...\n",
      "... done in 2.63 seconds.\n",
      "\n",
      "Calculating cook's distance...\n",
      "... done in 0.05 seconds.\n",
      "\n",
      "Replacing 5376 outlier genes.\n",
      "\n",
      "Fitting dispersions...\n",
      "... done in 0.55 seconds.\n",
      "\n",
      "Fitting MAP dispersions...\n",
      "... done in 0.51 seconds.\n",
      "\n",
      "Fitting LFCs...\n",
      "... done in 0.43 seconds.\n",
      "\n"
     ]
    }
   ],
   "source": [
    "# run deseq\n",
    "dds.deseq2()"
   ]
  },
  {
   "cell_type": "code",
   "execution_count": 7,
   "id": "4f97227a-3678-46e5-ae2c-1046516c287f",
   "metadata": {},
   "outputs": [],
   "source": [
    "# extract normalized expression matrix\n",
    "\n",
    "dds_obs_df = pd.DataFrame(dds.obs)\n",
    "dds_var_df = pd.DataFrame(dds.var)\n",
    "dds_matrix_df = pd.DataFrame(dds.layers['normed_counts'], index=dds.obs.index, columns=dds.var.index)\n",
    "\n",
    "norm_counts_pre = pd.concat([dds_obs_df, dds_matrix_df], axis=1)"
   ]
  },
  {
   "cell_type": "markdown",
   "id": "248002c7-baeb-4e34-b1e0-b92ec8551fea",
   "metadata": {},
   "source": [
    "## 2. Convert to AnnData object"
   ]
  },
  {
   "cell_type": "code",
   "execution_count": 8,
   "id": "e167fe40-0bb0-4e9c-adf0-5b6a7c1fa92b",
   "metadata": {},
   "outputs": [],
   "source": [
    "adata = sc.AnnData(norm_counts_pre.iloc[:,16:])\n",
    "adata.obs = meta_aligned"
   ]
  },
  {
   "cell_type": "code",
   "execution_count": 9,
   "id": "d0185713-d86f-47eb-aa05-c079418d73cd",
   "metadata": {},
   "outputs": [
    {
     "data": {
      "text/plain": [
       "AnnData object with n_obs × n_vars = 27 × 39376\n",
       "    obs: 'Patient_n', 'Age', 'Gender', 'Therapy', 'PFS', 'PFS_FLAG', 'Response', 'TME Subtype', 'Mutation_Load', 'TMB', 'Global_Methylation_Level', 'library_strategy', 'platform_id', 'SAMN', 'SRA', 'series_id'"
      ]
     },
     "execution_count": 9,
     "metadata": {},
     "output_type": "execute_result"
    }
   ],
   "source": [
    "adata"
   ]
  },
  {
   "cell_type": "markdown",
   "id": "45e6867e-890b-42a3-86b2-218d3482c98c",
   "metadata": {},
   "source": [
    "## 3. Plot survival curves for ELF3 expression"
   ]
  },
  {
   "cell_type": "code",
   "execution_count": 10,
   "id": "7956bc7e-3351-4953-91f1-47b359e8affb",
   "metadata": {},
   "outputs": [],
   "source": [
    "# define gene signatures\n",
    "ICB_res = [\n",
    "    \"PRSS27\", \"ELF3\", \"DESI1\", \"LTF\", \"PGLYRP4\", \"PDZK1IP1\", \"SPNS2\", \"PSCA\", \"PRSS22\", \"TMPRSS11G\",\n",
    "    \"GSTO1\", \"KRT19\", \"MUC20\", \"TSPAN1\", \"DUOXA2\", \"TMEM242\", \"TMC5\", \"ECM1\", \"CBLC\", \"CCDC129\", \n",
    "    \"PRSS27P\", \"CAPN5\", \"GLRX\", \"SPNS3\", \"TMPRSS11E\", \"ZSCAN32\", \"TP53INP2\", \"SLC6A14\", \"DYNAP\", \n",
    "    \"DUSP4\", \"CLDN23\", \"CCDC69\", \"CLIC5\", \"GRPEL2\", \"APOL7B\", \"GDE1\", \"MAL\", \"DUOX2\", \"NUPR1\", \n",
    "    \"CLDN1\", \"P2RY2\", \"IRF7\", \"S100A14\", \"CDKN2B\", \"MALL\", \"PLEKHS1\", \"AC168977.1\", \"MUC4\", \"FXYD4\", \n",
    "    \"LY6G6D\", \"TRIM15\", \"MAL2\", \"WNT7B\", \"IFT22\", \"PLET1\", \"PPBP\", \"HIST1H1C\", \"CRYBA4\", \"KRT7\", \"HSD17B7\", \n",
    "    \"CLCA1\", \"TMPRSS11F\", \"SERPINB9\", \"CCDC186\", \"MYZAP\", \"SLC9A3R1\", \"PTTG1IP\", \"SLC28A3\", \"CIDEA\", \n",
    "    \"TMEM190\", \"PCDH11Y\", \"ARG1\", \"4930459C07RIK\", \"BSPRY\", \"CCDC12\", \"PIGR\", \"KRT23\", \"1810044K17RIK\", \n",
    "    \"CYP2D6\", \"PBP2\", \"CXCL5\", \"TMPRSS4\", \"LPCAT4\", \"CCDC71L\", \"ARHGAP27OS1\", \"EPS8L2\", \"TMPRSS11B\", \n",
    "    \"SERPINB9\", \"CSF3\", \"IFIT1\", \"LIPH\", \"EPHB3\", \"AA986860\", \"LGALS3\", \"RASSF7\", \"GRHL1\", \n",
    "    \"GFPT1\", \"TRIM16\", \"SPRR2D\"\n",
    "]\n",
    "\n",
    "ICB_resp = [\n",
    "    \"GBP6\", \"GBP2\", \"IIGP1\", \"CNTN1\", \"TMEM226\", \"OR56A4\", \"MILL1\", \"CXCL10\", \"GBP4\", \"IFIT3\", \n",
    "    \"APOL10\", \"IFI47\", \"GBP5\", \"SLCO2A1\", \"PRL\", \"GREB1L\", \"GBP8\", \"CCL7\", \"TMEM121\", \"ZBED2\", \n",
    "    \"APOL9\", \"GPR176\", \"ADGRB3\", \"PRL\", \"CCL2\", \"RGS4\", \"IFIT1\", \"SERPINA3\", \"IRF1\", \"ASIC2\", \n",
    "    \"CXCL9\", \"MS4A4A\", \"IFIH1\", \"ZBTB8B\", \"ALOX12\", \"NRG1\", \"GHR\", \"GRIN2D\", \"CLIC4\", \"ROBO2\", \n",
    "    \"CCDC166\", \"LAMA3\", \"FAM126A\", \"ERLIN2\", \"GNB4\", \"AMMECR1\", \"ZC3H12C\", \"PRL\", \"SAMD5\", \n",
    "    \"FCGBP\", \"PLCB1\", \"FLNB\", \"CYP7B1\", \"IL24\", \"ALOX15\", \"IFIT3\", \"NCAM1\", \"CSPR2\", \"CD44\", \n",
    "    \"IL18R1\", \"SERPINB2\", \"EFEMP1\", \"TENM1\", \"CCL8\", \"SLC6A4\", \"HAS2\", \"UBD\", \"NPPB\", \"CCL11\", \n",
    "    \"FAP\", \"PCDH7\", \"IGFN1\", \"IFI16\", \"TNC\", \"MAJIN\", \"CSMD1\", \"ROBO1\", \"VCAM1\", \"IRF7\", \n",
    "    \"ZC3H12A\", \"NPAS3\", \"ITGB6\", \"DCLK1\", \"NEK10\", \"LY75\", \"CFAP47\", \"SLC4A7\", \"VEGFC\", \n",
    "    \"CNGA1\", \"HCN1\", \"SYT1\", \"SLCO1A2\", \"GDNF\", \"TENM3\", \"ERC1\", \"SKINT3\", \"PDLIM1\", \n",
    "    \"DNAH8\", \"CSNK1G3\", \"TNIP3\"\n",
    "]"
   ]
  },
  {
   "cell_type": "code",
   "execution_count": 11,
   "id": "cf9aa724-2d5e-445c-a4b1-4d063dc89305",
   "metadata": {},
   "outputs": [
    {
     "name": "stdout",
     "output_type": "stream",
     "text": [
      "WARNING: genes are not in var_names and ignored: Index(['TMPRSS11G', 'PRSS27P', 'APOL7B', 'AC168977.1', '4930459C07RIK',\n",
      "       '1810044K17RIK', 'PBP2', 'ARHGAP27OS1', 'AA986860'],\n",
      "      dtype='object')\n",
      "WARNING: genes are not in var_names and ignored: Index(['IIGP1', 'TMEM226', 'MILL1', 'APOL10', 'IFI47', 'GBP8', 'APOL9',\n",
      "       'ADGRB3', 'CSPR2', 'MAJIN', 'CFAP47', 'SKINT3'],\n",
      "      dtype='object')\n"
     ]
    }
   ],
   "source": [
    "# score tumors for gene sets\n",
    "sc.tl.score_genes(adata, ICB_res, score_name='ICB_res')\n",
    "sc.tl.score_genes(adata, ICB_resp, score_name='ICB_resp')\n",
    "sc.tl.score_genes(adata, ['ELF3'], score_name='elf3')"
   ]
  },
  {
   "cell_type": "code",
   "execution_count": 12,
   "id": "01e343a7-c9c4-453a-8869-95428e23d88e",
   "metadata": {},
   "outputs": [
    {
     "data": {
      "image/png": "[encoded data removed]",
      "text/plain": [
       "<Figure size 200x200 with 1 Axes>"
      ]
     },
     "metadata": {},
     "output_type": "display_data"
    }
   ],
   "source": [
    "# Plot KM curve for ELF3 expression\n",
    "score = \"elf3\"\n",
    "N = 14\n",
    "\n",
    "# ── Step 1: Create dataframe with required info ───────────────\n",
    "df = adata.obs[[score, \"PFS\", \"PFS_FLAG\"]].dropna().copy()\n",
    "\n",
    "# 'PFS' = survival time\n",
    "# 'PFS_event' = 1 if event occurred, 0 if censored (you may need to create this)\n",
    "\n",
    "# ── Step 2: Rank by score and assign groups ─────────────────\n",
    "df[\"res_group\"] = \"Other\"\n",
    "df.loc[df[score].nlargest(N).index, \"res_group\"] = \"High\"\n",
    "df.loc[df[score].nsmallest(N).index, \"res_group\"] = \"Low\"\n",
    "df = df[df[\"res_group\"].isin([\"High\", \"Low\"])]  # keep only top/bottom N\n",
    "\n",
    "# ── Step 3: Fit KM curves ─────────────────────────────────────\n",
    "kmf = KaplanMeierFitter()\n",
    "\n",
    "plt.figure(figsize=(2, 2))\n",
    "for group, color in zip([\"High\", \"Low\"], [\"red\", \"blue\"]):\n",
    "    ix = df[\"res_group\"] == group\n",
    "    kmf.fit(durations=df.loc[ix, \"PFS\"],\n",
    "            event_observed=df.loc[ix, \"PFS_FLAG\"],\n",
    "            label=f\"{group} score\")\n",
    "    ax = kmf.plot(ci_show=True, color=color, linewidth=1.8, ci_alpha=0.2)\n",
    "\n",
    "# ── Style plot ────────────────────────────────────────────────\n",
    "ax.set_xlabel(\"Progression-Free Survival (days)\", color='black')\n",
    "ax.set_ylabel(\"Survival probability\", color='black')\n",
    "ax.spines['top'].set_visible(False)\n",
    "ax.spines['right'].set_visible(False)\n",
    "ax.tick_params(axis='both', direction='out', length=5, width=1, colors='black')\n",
    "ax.legend(frameon=False).remove()\n",
    "plt.xlabel(\"\")\n",
    "plt.ylabel(\"\")\n",
    "\n",
    "plt.tight_layout()\n",
    "#plt.savefig(\"KM_ELF3_PFS.png\", dpi=600)\n",
    "plt.show()"
   ]
  },
  {
   "cell_type": "code",
   "execution_count": 13,
   "id": "a4bd0f6c-6e56-4ac5-a8c5-51cf448449bd",
   "metadata": {},
   "outputs": [
    {
     "name": "stdout",
     "output_type": "stream",
     "text": [
      "Log-rank p-value: 0.0143\n"
     ]
    },
    {
     "data": {
      "text/html": [
       "<div>\n",
       "<style scoped>\n",
       "    .dataframe tbody tr th:only-of-type {\n",
       "        vertical-align: middle;\n",
       "    }\n",
       "\n",
       "    .dataframe tbody tr th {\n",
       "        vertical-align: top;\n",
       "    }\n",
       "\n",
       "    .dataframe thead th {\n",
       "        text-align: right;\n",
       "    }\n",
       "</style>\n",
       "<table border=\"1\" class=\"dataframe\">\n",
       "  <tbody>\n",
       "    <tr>\n",
       "      <th>t_0</th>\n",
       "      <td>-1</td>\n",
       "    </tr>\n",
       "    <tr>\n",
       "      <th>null_distribution</th>\n",
       "      <td>chi squared</td>\n",
       "    </tr>\n",
       "    <tr>\n",
       "      <th>degrees_of_freedom</th>\n",
       "      <td>1</td>\n",
       "    </tr>\n",
       "    <tr>\n",
       "      <th>test_name</th>\n",
       "      <td>logrank_test</td>\n",
       "    </tr>\n",
       "  </tbody>\n",
       "</table>\n",
       "</div><table border=\"1\" class=\"dataframe\">\n",
       "  <thead>\n",
       "    <tr style=\"text-align: right;\">\n",
       "      <th></th>\n",
       "      <th>test_statistic</th>\n",
       "      <th>p</th>\n",
       "      <th>-log2(p)</th>\n",
       "    </tr>\n",
       "  </thead>\n",
       "  <tbody>\n",
       "    <tr>\n",
       "      <th>0</th>\n",
       "      <td>6.00</td>\n",
       "      <td>0.01</td>\n",
       "      <td>6.13</td>\n",
       "    </tr>\n",
       "  </tbody>\n",
       "</table>"
      ],
      "text/latex": [
       "\\begin{tabular}{lrrr}\n",
       " & test_statistic & p & -log2(p) \\\\\n",
       "0 & 6.00 & 0.01 & 6.13 \\\\\n",
       "\\end{tabular}\n"
      ],
      "text/plain": [
       "<lifelines.StatisticalResult: logrank_test>\n",
       "               t_0 = -1\n",
       " null_distribution = chi squared\n",
       "degrees_of_freedom = 1\n",
       "         test_name = logrank_test\n",
       "\n",
       "---\n",
       " test_statistic    p  -log2(p)\n",
       "           6.00 0.01      6.13"
      ]
     },
     "metadata": {},
     "output_type": "display_data"
    }
   ],
   "source": [
    "# calculate significance by log-rank test\n",
    "\n",
    "# Subset to top and bottom N\n",
    "score = \"elf3\"\n",
    "N = 14\n",
    "df = adata.obs[[score, \"PFS\", \"PFS_FLAG\"]].dropna().copy()\n",
    "\n",
    "# Label groups\n",
    "df[\"group\"] = \"Other\"\n",
    "df.loc[df[score].nlargest(N).index, \"group\"] = \"High\"\n",
    "df.loc[df[score].nsmallest(N).index, \"group\"] = \"Low\"\n",
    "df = df[df[\"group\"].isin([\"High\", \"Low\"])]\n",
    "\n",
    "# Split into two groups\n",
    "group_high = df[df[\"group\"] == \"High\"]\n",
    "group_low = df[df[\"group\"] == \"Low\"]\n",
    "\n",
    "# Perform log-rank test\n",
    "results = logrank_test(\n",
    "    group_high[\"PFS\"], group_low[\"PFS\"],\n",
    "    event_observed_A=group_high[\"PFS_FLAG\"],\n",
    "    event_observed_B=group_low[\"PFS_FLAG\"]\n",
    ")\n",
    "\n",
    "# Output result\n",
    "print(f\"Log-rank p-value: {results.p_value:.4f}\")\n",
    "results.print_summary()\n"
   ]
  },
  {
   "cell_type": "markdown",
   "id": "38882235-7069-4055-aa80-f9252355f437",
   "metadata": {},
   "source": [
    "## 4. Correlate ELF3 expression with TME features"
   ]
  },
  {
   "cell_type": "code",
   "execution_count": 17,
   "id": "55c1bbd7-45f4-4907-b319-e708355ba6fa",
   "metadata": {},
   "outputs": [
    {
     "data": {
      "image/png": "[encoded data removed]",
      "text/plain": [
       "<Figure size 200x250 with 1 Axes>"
      ]
     },
     "metadata": {},
     "output_type": "display_data"
    }
   ],
   "source": [
    "# define geneset to test (mix of ICB-resistance genes, neutrophil markers, T cell markers,\n",
    "# and T cell cytotoxicity genes\n",
    "geneset = [\"MAL2\",\"IRF7\",\"NUPR1\",\"LGALS3\",\"CSF3\",\"CXCL1\",\"CSF1\",\"CSF3\",\n",
    "                \"ARG2\",\"CEACAM8\",\"LCN2\",\"OLFM4\",\n",
    "                 \"CD8A\",\"CD3\",\"TOX\",\"GZMA\",\"GZMB\",\"GNLY\",\"CD69\",\"PRF1\",\"TNF\",\"IL2\",\"CD3E\"\n",
    "                ]\n",
    "\n",
    "# make sure genes are in dataset\n",
    "valid_genes = [g for g in geneset if g in adata.var_names]\n",
    "\n",
    "# initialize list to store correlation results\n",
    "results = []\n",
    "# loop through genes and compute ELF3 correlation\n",
    "for gene in valid_genes:\n",
    "    x = adata.obs[\"elf3\"]\n",
    "    y = adata[:, gene].X.toarray().flatten() if hasattr(adata[:, gene].X, \"toarray\") else adata[:, gene].X.flatten()\n",
    "    \n",
    "    # remove any NAs\n",
    "    mask = (~pd.isna(x)) & (~pd.isna(y))\n",
    "    # compute correlation if >2 data points\n",
    "    if mask.sum() > 2:\n",
    "        rho, pval = spearmanr(x[mask], y[mask])\n",
    "        results.append({\n",
    "            \"gene\": gene,\n",
    "            \"rho\": rho,\n",
    "            \"pval\": pval\n",
    "        })\n",
    "\n",
    "# convert results to a dataframe and sort by descending correlation with ELF3\n",
    "corr_df = pd.DataFrame(results).sort_values(\"rho\", ascending=False)\n",
    "\n",
    "# format plot\n",
    "\n",
    "plt.figure(figsize=(2, 2.5))\n",
    "sns.barplot(data=corr_df, y=\"gene\", x=\"rho\", palette=\"coolwarm_r\")\n",
    "plt.axvline(0, color=\"gray\", linestyle=\"--\")\n",
    "plt.title(\"\")\n",
    "plt.xlabel(\"\")\n",
    "plt.ylabel(\"\")\n",
    "plt.tight_layout()\n",
    "#plt.savefig('ELF3_corr_genes.png', dpi=600)\n",
    "plt.show()\n"
   ]
  },
  {
   "cell_type": "markdown",
   "id": "97694e6b-9a83-4b66-aad0-0ddbb04da8d5",
   "metadata": {},
   "source": [
    "## 5. Plot ICB-resistance or IFN-response programs based on ELF3-high or -low status"
   ]
  },
  {
   "cell_type": "code",
   "execution_count": 18,
   "id": "1bae4cbf-f25e-47c6-ba5d-cb0aa10f395c",
   "metadata": {},
   "outputs": [
    {
     "name": "stdout",
     "output_type": "stream",
     "text": [
      "0.02116699156773605\n"
     ]
    },
    {
     "name": "stderr",
     "output_type": "stream",
     "text": [
      "/usr/local/Caskroom/mambaforge/base/envs/scrna/lib/python3.12/site-packages/scanpy/tools/_score_genes.py:176: ImplicitModificationWarning: Trying to modify attribute `.obs` of view, initializing view as actual.\n",
      "  adata.obs[score_name] = pd.Series(\n"
     ]
    },
    {
     "data": {
      "image/png": "[encoded data removed]",
      "text/plain": [
       "<Figure size 150x200 with 1 Axes>"
      ]
     },
     "metadata": {},
     "output_type": "display_data"
    }
   ],
   "source": [
    "\n",
    "# separate box plot by ELF3-high or -low score\n",
    "score = \"elf3\"\n",
    "# 14 samples per group (split in half)\n",
    "N = 14\n",
    "# plot ICB-resistance score on y-axis\n",
    "geneset = ICB_res\n",
    "# set colors\n",
    "custom = {\"High\":\"crimson\",\"Low\":\"green\"}\n",
    "\n",
    "# create dataframe and assign ELF3 expression category\n",
    "df = adata.obs[[score, \"PFS\", \"PFS_FLAG\"]].dropna().copy()\n",
    "df[\"res_group\"] = \"Other\"\n",
    "df.loc[df[score].nlargest(N).index, \"res_group\"] = \"High\"\n",
    "df.loc[df[score].nsmallest(N).index, \"res_group\"] = \"Low\"\n",
    "df = df[df[\"res_group\"].isin([\"High\", \"Low\"])]  # keep only top/bottom\n",
    "\n",
    "# subset AnnData (new object)\n",
    "adata_subset = adata[df.index]\n",
    "\n",
    "# apply score\n",
    "valid_genes = [g for g in geneset if g in adata.var_names]\n",
    "sc.tl.score_genes(adata_subset, gene_list=valid_genes, score_name=\"geneset_score\")\n",
    "\n",
    "# export scores from adata to the dataframe\n",
    "df[\"geneset_score\"] = adata_subset.obs[\"geneset_score\"]\n",
    "\n",
    "# MWU test to compare scores\n",
    "group_high = df[df[\"res_group\"] == \"High\"][\"geneset_score\"]\n",
    "group_low = df[df[\"res_group\"] == \"Low\"][\"geneset_score\"]\n",
    "stat, pval = mannwhitneyu(group_high, group_low, alternative='two-sided')\n",
    "\n",
    "print(pval)\n",
    "\n",
    "# format and show plot\n",
    "plt.figure(figsize=(1.5, 2))\n",
    "ax = sns.boxplot(data=df, x=\"res_group\", y=\"geneset_score\", palette=custom, fliersize=0, width=0.6)\n",
    "sns.stripplot(data=df, x=\"res_group\", y=\"geneset_score\", color=\"black\", size=4, jitter=True)\n",
    "ax.spines['top'].set_visible(False)\n",
    "ax.spines['right'].set_visible(False)\n",
    "plt.yticks(plt.yticks()[0], [''] * len(plt.yticks()[0]))\n",
    "plt.ylim(-2000,4000)\n",
    "plt.title(\"\")\n",
    "plt.xlabel(\"\")\n",
    "plt.ylabel(\"\")\n",
    "plt.tight_layout()\n",
    "#plt.savefig('ELF3_corr_ifnresp.png', dpi = 600)\n",
    "plt.show()\n"
   ]
  },
  {
   "cell_type": "code",
   "execution_count": 21,
   "id": "0341a088-7e56-4667-bde8-19675e6a1c30",
   "metadata": {},
   "outputs": [
    {
     "name": "stdout",
     "output_type": "stream",
     "text": [
      "0.08494665681641869\n"
     ]
    },
    {
     "name": "stderr",
     "output_type": "stream",
     "text": [
      "/usr/local/Caskroom/mambaforge/base/envs/scrna/lib/python3.12/site-packages/scanpy/tools/_score_genes.py:176: ImplicitModificationWarning: Trying to modify attribute `.obs` of view, initializing view as actual.\n",
      "  adata.obs[score_name] = pd.Series(\n"
     ]
    },
    {
     "data": {
      "image/png": "[encoded data removed]",
      "text/plain": [
       "<Figure size 150x200 with 1 Axes>"
      ]
     },
     "metadata": {},
     "output_type": "display_data"
    }
   ],
   "source": [
    "# separate box plot by ELF3-high or -low score\n",
    "score = \"elf3\"\n",
    "# 14 samples per group (split in half)\n",
    "N = 14\n",
    "# plot IFN-response score on y-axis\n",
    "geneset = ICB_resp\n",
    "# set colors\n",
    "custom = {\"High\":\"crimson\",\"Low\":\"green\"}\n",
    "\n",
    "# create dataframe and assign ELF3 expression category\n",
    "df = adata.obs[[score, \"PFS\", \"PFS_FLAG\"]].dropna().copy()\n",
    "df[\"res_group\"] = \"Other\"\n",
    "df.loc[df[score].nlargest(N).index, \"res_group\"] = \"High\"\n",
    "df.loc[df[score].nsmallest(N).index, \"res_group\"] = \"Low\"\n",
    "df = df[df[\"res_group\"].isin([\"High\", \"Low\"])]  # keep only top/bottom\n",
    "\n",
    "# subset AnnData (new object)\n",
    "adata_subset = adata[df.index]\n",
    "\n",
    "# apply score\n",
    "valid_genes = [g for g in geneset if g in adata.var_names]\n",
    "sc.tl.score_genes(adata_subset, gene_list=valid_genes, score_name=\"geneset_score\")\n",
    "\n",
    "# export scores from adata to the dataframe\n",
    "df[\"geneset_score\"] = adata_subset.obs[\"geneset_score\"]\n",
    "\n",
    "# MWU test to compare scores\n",
    "group_high = df[df[\"res_group\"] == \"High\"][\"geneset_score\"]\n",
    "group_low = df[df[\"res_group\"] == \"Low\"][\"geneset_score\"]\n",
    "stat, pval = mannwhitneyu(group_high, group_low, alternative='two-sided')\n",
    "\n",
    "print(pval)\n",
    "\n",
    "# format and show plot\n",
    "plt.figure(figsize=(1.5, 2))\n",
    "ax = sns.boxplot(data=df, x=\"res_group\", y=\"geneset_score\", palette=custom, fliersize=0, width=0.6)\n",
    "sns.stripplot(data=df, x=\"res_group\", y=\"geneset_score\", color=\"black\", size=4, jitter=True)\n",
    "ax.spines['top'].set_visible(False)\n",
    "ax.spines['right'].set_visible(False)\n",
    "plt.yticks(plt.yticks()[0], [''] * len(plt.yticks()[0]))\n",
    "plt.ylim(-200,3000)\n",
    "plt.title(\"\")\n",
    "plt.xlabel(\"\")\n",
    "plt.ylabel(\"\")\n",
    "plt.tight_layout()\n",
    "#plt.savefig('ELF3_corr_ifnresp.png', dpi = 600)\n",
    "plt.show()\n"
   ]
  }
 ],
 "metadata": {
  "kernelspec": {
   "display_name": "Python 3 (ipykernel)",
   "language": "python",
   "name": "python3"
  },
  "language_info": {
   "codemirror_mode": {
    "name": "ipython",
    "version": 3
   },
   "file_extension": ".py",
   "mimetype": "text/x-python",
   "name": "python",
   "nbconvert_exporter": "python",
   "pygments_lexer": "ipython3",
   "version": "3.12.5"
  }
 },
 "nbformat": 4,
 "nbformat_minor": 5
}
