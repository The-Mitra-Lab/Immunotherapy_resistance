{
 "cells": [
  {
   "cell_type": "markdown",
   "id": "76c48a96-b7a7-4e2a-99e9-cc0be75c90be",
   "metadata": {},
   "source": [
    "# 07. In vivo MOC1 chronic IFN +/- Elf3 KO: bulk RNA-seq\n",
    "\n",
    "WT or Elf3 KO MOC1 cells were treated with IFN-gamma or vehicle for 1 month, underwent a 2-week washout period, then were injected into the flanks of C57BL/6 mice. Tumors were treated with anti-PD1 ICI or IgG control, and allowed to grow until Day 30. Tumors were then dissected, sorted for CD45. CD45+ cells underwent flow cytometry analysis. CD45- cells were saved for RNA-seq. This data represents all CD45- cells, including malignant cells and small number of fibroblasts and endothelial cells."
   ]
  },
  {
   "cell_type": "code",
   "execution_count": 1,
   "id": "09c237b1-6284-439a-b226-b95ab7a929bd",
   "metadata": {},
   "outputs": [],
   "source": [
    "from pydeseq2.dds import DeseqDataSet\n",
    "from pydeseq2.ds import DeseqStats\n",
    "import scanpy as sc\n",
    "import pandas as pd\n",
    "import numpy as np\n",
    "import seaborn as sns\n",
    "import matplotlib.pyplot as plt\n",
    "from matplotlib.lines import Line2D\n",
    "from matplotlib.patheffects import withStroke\n",
    "from adjustText import adjust_text\n",
    "from scipy.stats import ttest_ind\n",
    "from scipy.stats import zscore\n",
    "from scipy.stats import mannwhitneyu\n",
    "from itertools import combinations\n",
    "from statsmodels.stats.multitest import multipletests\n",
    "import matplotlib as mpl"
   ]
  },
  {
   "cell_type": "markdown",
   "id": "0184f20b-41a4-4af9-8a1d-42c077863687",
   "metadata": {},
   "source": [
    "## 0. Read in and format counts"
   ]
  },
  {
   "cell_type": "code",
   "execution_count": 2,
   "id": "aa65fbc4-f922-4b3c-b3df-8f6d24a5dcd7",
   "metadata": {},
   "outputs": [],
   "source": [
    "counts = pd.read_csv('/path/to/RSM020_counts.csv')\n",
    "# label index as Geneid\n",
    "counts = counts.rename(columns={'Unnamed: 0': 'Geneid'})\n",
    "counts = counts.set_index('Geneid')"
   ]
  },
  {
   "cell_type": "code",
   "execution_count": 3,
   "id": "01b978c2-a0b2-49a9-b9db-ddbc5bc679a1",
   "metadata": {},
   "outputs": [],
   "source": [
    "# keep only genes with >10 counts across samples\n",
    "counts = counts[counts.sum(axis = 1) > 10]"
   ]
  },
  {
   "cell_type": "code",
   "execution_count": 4,
   "id": "47a019aa-9f68-41e4-aeb5-de3d3ed1dd3f",
   "metadata": {},
   "outputs": [],
   "source": [
    "# remove duplicated gene\n",
    "counts.index[counts.index.duplicated()]\n",
    "counts = counts[~counts.index.duplicated()]"
   ]
  },
  {
   "cell_type": "code",
   "execution_count": 5,
   "id": "4a2a41b5-fb58-44a9-af5c-95ac93714133",
   "metadata": {},
   "outputs": [],
   "source": [
    "# transpose for DESeq\n",
    "counts = counts.T"
   ]
  },
  {
   "cell_type": "code",
   "execution_count": 6,
   "id": "11d6057f-c9c9-43a4-a332-a3fab758797c",
   "metadata": {},
   "outputs": [],
   "source": [
    "# read in and format metadata\n",
    "metadata = pd.read_csv('/path/to/counts_manifest.csv')\n",
    "metadata = metadata.set_index('sample')\n",
    "metadata = metadata[metadata.experiment == 'RSM020']\n",
    "metadata = metadata.drop(columns=['experiment','mouse_ID'])"
   ]
  },
  {
   "cell_type": "code",
   "execution_count": 7,
   "id": "63bfaaf9-ecf5-4754-93c0-c5ecadda7021",
   "metadata": {},
   "outputs": [
    {
     "data": {
      "text/plain": [
       "(42, 1)"
      ]
     },
     "execution_count": 7,
     "metadata": {},
     "output_type": "execute_result"
    }
   ],
   "source": [
    "metadata.shape"
   ]
  },
  {
   "cell_type": "code",
   "execution_count": 8,
   "id": "4d4d6540-ecd8-4e2f-b651-928d817fa820",
   "metadata": {},
   "outputs": [
    {
     "data": {
      "text/plain": [
       "(42, 16729)"
      ]
     },
     "execution_count": 8,
     "metadata": {},
     "output_type": "execute_result"
    }
   ],
   "source": [
    "counts.shape"
   ]
  },
  {
   "cell_type": "markdown",
   "id": "1c1c4e3b-0e4e-458c-89d5-642346e8a225",
   "metadata": {},
   "source": [
    "## Part 1. Perform DESeq to obtain normalized counts matrix"
   ]
  },
  {
   "cell_type": "code",
   "execution_count": 9,
   "id": "fcb62b3d-6f92-4066-bfe8-b74df760e0d9",
   "metadata": {},
   "outputs": [],
   "source": [
    "# initialize DEseq\n",
    "dds = DeseqDataSet(counts=counts,\n",
    "            metadata=metadata,\n",
    "            design_factors=\"condition\")"
   ]
  },
  {
   "cell_type": "code",
   "execution_count": 10,
   "id": "2ccffd05-4d47-4753-ad0e-b0e72dad1428",
   "metadata": {},
   "outputs": [
    {
     "name": "stderr",
     "output_type": "stream",
     "text": [
      "Fitting size factors...\n",
      "... done in 0.02 seconds.\n",
      "\n",
      "Fitting dispersions...\n",
      "... done in 1.30 seconds.\n",
      "\n",
      "Fitting dispersion trend curve...\n",
      "... done in 0.27 seconds.\n",
      "\n",
      "Fitting MAP dispersions...\n",
      "... done in 1.67 seconds.\n",
      "\n",
      "Fitting LFCs...\n",
      "... done in 1.16 seconds.\n",
      "\n",
      "Calculating cook's distance...\n",
      "... done in 0.03 seconds.\n",
      "\n",
      "Replacing 19 outlier genes.\n",
      "\n",
      "Fitting dispersions...\n",
      "... done in 0.01 seconds.\n",
      "\n",
      "Fitting MAP dispersions...\n",
      "... done in 0.01 seconds.\n",
      "\n",
      "Fitting LFCs...\n",
      "... done in 0.02 seconds.\n",
      "\n"
     ]
    }
   ],
   "source": [
    "# run DESeq\n",
    "dds.deseq2()"
   ]
  },
  {
   "cell_type": "code",
   "execution_count": 11,
   "id": "4e4a6f3f-d806-4901-bdf9-bfbe5d81f832",
   "metadata": {},
   "outputs": [
    {
     "data": {
      "text/plain": [
       "AnnData object with n_obs × n_vars = 42 × 16729\n",
       "    obs: 'condition'\n",
       "    uns: 'trend_coeffs', 'disp_function_type', '_squared_logres', 'prior_disp_var'\n",
       "    obsm: 'design_matrix', 'size_factors', '_mu_LFC', '_hat_diagonals', 'replaceable'\n",
       "    varm: '_normed_means', 'non_zero', '_MoM_dispersions', 'genewise_dispersions', '_genewise_converged', 'fitted_dispersions', 'MAP_dispersions', '_MAP_converged', 'dispersions', '_outlier_genes', 'LFC', '_LFC_converged', 'replaced', 'refitted'\n",
       "    layers: 'normed_counts', '_mu_hat', 'cooks', 'replace_cooks'"
      ]
     },
     "execution_count": 11,
     "metadata": {},
     "output_type": "execute_result"
    }
   ],
   "source": [
    "dds"
   ]
  },
  {
   "cell_type": "code",
   "execution_count": 12,
   "id": "2c2b4e0f-49df-4efc-836b-9378553cd824",
   "metadata": {},
   "outputs": [],
   "source": [
    "# create size-factor normalized counts matrix\n",
    "dds_obs_df = pd.DataFrame(dds.obs)\n",
    "dds_var_df = pd.DataFrame(dds.var)\n",
    "dds_matrix_df = pd.DataFrame(dds.layers['normed_counts'], index=dds.obs.index, columns=dds.var.index)\n",
    "\n",
    "norm_counts = pd.concat([dds_obs_df, dds_matrix_df], axis=1)"
   ]
  },
  {
   "cell_type": "code",
   "execution_count": 13,
   "id": "089a1473-64cb-44c7-8538-4ee9f4459433",
   "metadata": {},
   "outputs": [],
   "source": [
    "# These samples were both labeled RSM020-11. \n",
    "# Removing them because it is not obvious which one belongs in its group and \n",
    "# which one does not. RS42C_14 is an outlier for most analyses...removing as well.\n",
    "\n",
    "metadata = metadata[~metadata.index.isin(['RS42C_6','RS42C_7','RS42C_14'])]\n",
    "norm_counts = norm_counts[~norm_counts.index.isin(['RS42C_6','RS42C_7','RS42C_14'])]"
   ]
  },
  {
   "cell_type": "code",
   "execution_count": 14,
   "id": "a313ba2c-d24d-4f34-8704-26019fbbcd2a",
   "metadata": {},
   "outputs": [],
   "source": [
    "# Generate an AnnData object\n",
    "adata = sc.AnnData(norm_counts.iloc[:, 1:])\n",
    "adata.obs = metadata"
   ]
  },
  {
   "cell_type": "markdown",
   "id": "c9d4514d-781d-49c0-b518-57da931a108b",
   "metadata": {},
   "source": [
    "## Part 2. Score gene sets on anti-PD1-treated tumors (+/- Elf3 KO)"
   ]
  },
  {
   "cell_type": "code",
   "execution_count": 15,
   "id": "56032146-51e1-4e1b-80ee-5c1024cb1cc3",
   "metadata": {},
   "outputs": [],
   "source": [
    "# define genesets\n",
    "ICBres = [\n",
    "    \"Prss27\", \"Elf3\", \"Desi1\", \"Ltf\", \"Pglyrp4\", \"Pdzk1ip1\", \"Spns2\", \"Psca\", \"Prss22\", \"Tmprss11g\",\n",
    "    \"Gsto1\", \"Krt19\", \"Muc20\", \"Tspan1\", \"Duoxa2\", \"Gm13056\", \"Tmc5\", \"Ecm1\", \"Cblc\", \"Gm9573\", \n",
    "    \"AA467197\", \"Capn5\", \"Glrx\", \"Spns3\", \"Tmprss11e\", \"Gm14137\", \"Trp53inp2\", \"Slc6a14\", \"Dynap\", \n",
    "    \"Dusp4\", \"Cldn23\", \"AI661453\", \"Clic5\", \"Grpel2\", \"Apol7a\", \"Gde1\", \"Mal\", \"Duox2\", \"Nupr1\", \n",
    "    \"Cldn1\", \"P2ry2\", \"Irf7\", \"S100a14\", \"Cdkn2b\", \"Mall\", \"Plekhs1\", \"AC168977.1\", \"Muc4\", \"Fxyd4\", \n",
    "    \"Ly6m\", \"Trim15\", \"Mal2\", \"Wnt7b\", \"Ift22\", \"Plet1\", \"Ppbp\", \"Hist1h1c\", \"Cryba4\", \"Krt7\", \"Hsd17b7\", \n",
    "    \"Clca3b\", \"Tmprss11f\", \"Serpinb9f\", \"Gm48975\", \"Myzap\", \"Slc9a3r1\", \"Pttg1ip\", \"Slc28a3\", \"Cidea\", \n",
    "    \"Gm13074\", \"Gm20234\", \"Arg1\", \"4930459C07Rik\", \"Bspry\", \"Ccdc12\", \"Pigr\", \"Krt23\", \"1810044K17Rik\", \n",
    "    \"Cyp2d10\", \"Pbp2\", \"Cxcl5\", \"Tmprss4\", \"Lpcat4\", \"Ccdc71l\", \"Arhgap27os1\", \"Eps8l2\", \"Tmprss11b\", \n",
    "    \"Serpinb9g\", \"Csf3\", \"Ifit1bl1\", \"Liph\", \"Ephb3\", \"AA986860\", \"Lgals3\", \"Rassf7\", \"Gm49439\", \"Grhl1\", \n",
    "    \"Gfpt1\", \"Trim16\", \"Sprr2d\"\n",
    "]\n",
    "\n",
    "IFNresp = [\n",
    "    \"Gbp6\", \"Gbp2\", \"Iigp1\", \"Cntn1\", \"Gm4951\", \"Olfr56\", \"Mill1\", \"Cxcl10\", \n",
    "    \"Gbp4\", \"Ifit3\", \"Apol10b\", \"Ifi47\", \"Gbp5\", \"Slco2a1\", \"Prl2c2\", \"Greb1l\", \n",
    "    \"Gbp8\", \"Ccl7\", \"Gm14636\", \"Gm12185\", \"Apol9a\", \"Gm15987\", \"Adgrb3\", \n",
    "    \"Prl2c3\", \"Ccl2\", \"Rgs4\", \"Ifit1\", \"Serpina3g\", \"Irf1\", \"Asic2\", \"Cxcl9\", \n",
    "    \"Ms4a4d\", \"Ifih1\", \"Gm16685\", \"Alox12e\", \"Nrg1\", \"Ghr\", \"Gm26907\", \"Clic4\", \n",
    "    \"Robo2\", \"F830016B08Rik\", \"Lama3\", \"Fam126a\", \"Gm4841\", \"Gnb4\", \"Ammecr1\", \n",
    "    \"C130026I21Rik\", \"Prl2c5\", \"Samd5\", \"Fcgbp\", \"Plcb1\", \"Flnb\", \"Cyp7b1\", \n",
    "    \"Il24\", \"Alox15\", \"Ifit3b\", \"Ncam1\", \"Csprs\", \"Cd44\", \"Il18r1\", \"Serpinb2\", \n",
    "    \"Efemp1\", \"Tenm1\", \"Ccl8\", \"Slc6a4\", \"Has2\", \"Ubd\", \"Nppb\", \"Ccl11\", \"Fap\", \n",
    "    \"Pcdh7\", \"Gm17268\", \"Ifi203\", \"Tnc\", \"Majin\", \"Csmd1\", \"Robo1\", \"Vcam1\", \n",
    "    \"Irf7\", \"BC028777\", \"Npas3\", \"Itgb6\", \"Dclk1\", \"Nek10\", \"Ly75\", \"Cfap47\", \n",
    "    \"Slc4a7\", \"Vegfc\", \"Cnga1\", \"Hcn1\", \"Syt1\", \"Slco1a5\", \"Gdnf\", \"Tenm3\", \n",
    "    \"Erc1\", \"Skint3\", \"Pdlim1\", \"Dnah8\", \"1700120C14Rik\", \"Tnip3\"\n",
    "]\n",
    "\n",
    "myeloid = [\"Cxcl1\",\"Cxcl2\",\"Csf1\",\"Csf3\",\"Il1a\",\"Cxcl5\",\"Csf2\"]"
   ]
  },
  {
   "cell_type": "code",
   "execution_count": 16,
   "id": "f17ff823-18af-49b0-b22e-f5d7f10e7df4",
   "metadata": {},
   "outputs": [
    {
     "name": "stdout",
     "output_type": "stream",
     "text": [
      "WARNING: genes are not in var_names and ignored: Index(['Gm9573', 'AC168977.1', 'Muc4', 'Hist1h1c', 'Gm48975', 'Slc9a3r1',\n",
      "       'Gm20234', '4930459C07Rik', '1810044K17Rik', 'Pbp2', 'Gm49439'],\n",
      "      dtype='object')\n",
      "WARNING: genes are not in var_names and ignored: Index(['Gm4951', 'Olfr56', 'Asic2', 'Gm26907', 'Fam126a', 'C130026I21Rik',\n",
      "       'Csprs', 'Gm17268', 'BC028777', 'Nek10', 'Cfap47', 'Cnga1'],\n",
      "      dtype='object')\n"
     ]
    }
   ],
   "source": [
    "# score gene sets\n",
    "sc.tl.score_genes(adata, myeloid, score_name='myeloid')\n",
    "sc.tl.score_genes(adata, ICBres, score_name='ICBres')\n",
    "sc.tl.score_genes(adata, IFNresp, score_name='IFNresp')"
   ]
  },
  {
   "cell_type": "code",
   "execution_count": 17,
   "id": "c463728a-c189-4d39-903e-49aa5d06c9cd",
   "metadata": {},
   "outputs": [
    {
     "data": {
      "image/png": "[encoded data removed]",
      "text/plain": [
       "<Figure size 200x200 with 1 Axes>"
      ]
     },
     "metadata": {},
     "output_type": "display_data"
    }
   ],
   "source": [
    "# Plot myeloid chemotaxis factors\n",
    "\n",
    "prog = \"myeloid\"\n",
    "# plot for only anti-PD1-treated, IFN-conditioned tumors (+/- Elf3 KO)\n",
    "subset_labels = [\n",
    "    'MOC1i + aPD1', \n",
    "    'KOi + aPD1'\n",
    "]\n",
    "\n",
    "# define color palette\n",
    "subset_palette = {\n",
    "    'MOC1i + aPD1': 'firebrick',\n",
    "    'KOi + aPD1': 'blueviolet'\n",
    "}\n",
    "\n",
    "# create a subset AnnData object with only these samples\n",
    "adata_subset = adata.obs[adata.obs['condition'].isin(subset_labels)]\n",
    "\n",
    "# create boxplot\n",
    "plt.figure(figsize=(2, 2))\n",
    "\n",
    "ax = sns.boxplot(\n",
    "    x=\"condition\", y=prog, data=adata_subset,\n",
    "    order=subset_labels,\n",
    "    palette=subset_palette,\n",
    "    fliersize=0, linewidth=1.5,\n",
    "    width = .5\n",
    ")\n",
    "\n",
    "# overlay scatter plot\n",
    "sns.swarmplot(\n",
    "    x=\"condition\", y=prog, data=adata_subset,\n",
    "    order=subset_labels,\n",
    "    color=\"black\", size=4\n",
    ")\n",
    "\n",
    "# format\n",
    "ax.spines['top'].set_visible(False)\n",
    "ax.spines['right'].set_visible(False)\n",
    "ax.spines['left'].set_color(\"black\")\n",
    "ax.spines['bottom'].set_color(\"black\")\n",
    "\n",
    "ax.tick_params(\n",
    "    axis='both',\n",
    "    direction='out',\n",
    "    length=5,\n",
    "    width=1,\n",
    "    colors='black'\n",
    ")\n",
    "\n",
    "plt.xticks(np.arange(len(subset_labels)), [''] * len(subset_labels))  # Remove labels, keep ticks\n",
    "plt.xlabel('')\n",
    "plt.ylabel(\"\")\n",
    "plt.tight_layout()\n",
    "\n",
    "#plt.savefig(\"myeloid_score_aPD1_subset.png\", dpi=600)\n",
    "plt.show()\n"
   ]
  },
  {
   "cell_type": "code",
   "execution_count": 18,
   "id": "6198232a-4825-4b23-aaf3-78d0ef6505fc",
   "metadata": {},
   "outputs": [
    {
     "data": {
      "text/html": [
       "<div>\n",
       "<style scoped>\n",
       "    .dataframe tbody tr th:only-of-type {\n",
       "        vertical-align: middle;\n",
       "    }\n",
       "\n",
       "    .dataframe tbody tr th {\n",
       "        vertical-align: top;\n",
       "    }\n",
       "\n",
       "    .dataframe thead th {\n",
       "        text-align: right;\n",
       "    }\n",
       "</style>\n",
       "<table border=\"1\" class=\"dataframe\">\n",
       "  <thead>\n",
       "    <tr style=\"text-align: right;\">\n",
       "      <th></th>\n",
       "      <th>Group 1</th>\n",
       "      <th>Group 2</th>\n",
       "      <th>T-statistic</th>\n",
       "      <th>P-value</th>\n",
       "      <th>n1</th>\n",
       "      <th>n2</th>\n",
       "    </tr>\n",
       "  </thead>\n",
       "  <tbody>\n",
       "    <tr>\n",
       "      <th>0</th>\n",
       "      <td>MOC1i + aPD1</td>\n",
       "      <td>KOi + aPD1</td>\n",
       "      <td>5.79724</td>\n",
       "      <td>0.000583</td>\n",
       "      <td>5</td>\n",
       "      <td>6</td>\n",
       "    </tr>\n",
       "  </tbody>\n",
       "</table>\n",
       "</div>"
      ],
      "text/plain": [
       "        Group 1     Group 2  T-statistic   P-value  n1  n2\n",
       "0  MOC1i + aPD1  KOi + aPD1      5.79724  0.000583   5   6"
      ]
     },
     "execution_count": 18,
     "metadata": {},
     "output_type": "execute_result"
    }
   ],
   "source": [
    "group1 = 'MOC1i + aPD1'\n",
    "group2 = 'KOi + aPD1'\n",
    "\n",
    "stat, p = ttest_ind(adata_subset[adata_subset[\"condition\"] == group1][prog].dropna(), \n",
    "                    adata_subset[adata_subset[\"condition\"] == group2][prog].dropna(), \n",
    "                    equal_var=False)\n",
    "results = []\n",
    "results.append({\n",
    "        \"Group 1\": group1,\n",
    "        \"Group 2\": group2,\n",
    "        \"T-statistic\": stat,\n",
    "        \"P-value\": p,\n",
    "        \"n1\": len(adata_subset[adata_subset[\"condition\"] == group1][prog].dropna()),\n",
    "        \"n2\": len(adata_subset[adata_subset[\"condition\"] == group2][prog].dropna())\n",
    "})\n",
    "               \n",
    "results_df = pd.DataFrame(results)\n",
    "\n",
    "results_df"
   ]
  },
  {
   "cell_type": "code",
   "execution_count": 19,
   "id": "9536d33f-e119-4ea9-b48e-7d5a6e3a9443",
   "metadata": {},
   "outputs": [
    {
     "data": {
      "image/png": "[encoded data removed]",
      "text/plain": [
       "<Figure size 400x250 with 4 Axes>"
      ]
     },
     "metadata": {},
     "output_type": "display_data"
    }
   ],
   "source": [
    "# plot heatmap for select myeloid chemotaxis factors\n",
    "\n",
    "genes_of_interest = [\"Cxcl1\", \"Cxcl2\", \"Cxcl5\",'Csf3','Il1a','Ppbp']\n",
    "\n",
    "# plot for only anti-PD1-treated, IFN-conditioned tumors (+/- Elf3 KO)\n",
    "\n",
    "subset_labels = [\n",
    "    'MOC1i + aPD1', \n",
    "    'KOi + aPD1']\n",
    "\n",
    "# select color palette\n",
    "subset_palette = {\n",
    "    'MOC1i + aPD1': 'firebrick',\n",
    "    'KOi + aPD1': 'blueviolet'}\n",
    "\n",
    "\n",
    "# create a subset AnnData object with only these samples\n",
    "\n",
    "adata_subset = adata[adata.obs['condition'].isin(subset_labels), genes_of_interest]\n",
    "\n",
    "# convert to DataFrame\n",
    "expr_df = pd.DataFrame(\n",
    "    adata_subset.X.toarray() if hasattr(adata_subset.X, \"toarray\") else adata_subset.X,\n",
    "    index=adata_subset.obs_names,\n",
    "    columns=genes_of_interest\n",
    ")\n",
    "\n",
    "# specify condition info for sorting and color\n",
    "expr_df[\"condition\"] = adata_subset.obs[\"condition\"].values\n",
    "expr_df[\"condition\"] = pd.Categorical(expr_df[\"condition\"], categories=subset_labels, ordered=True)\n",
    "expr_df = expr_df.sort_values(\"condition\")\n",
    "\n",
    "# extract matrix for heatmap (samples × genes)\n",
    "heatmap_data = expr_df.drop(columns=\"condition\")\n",
    "heatmap_data_z = heatmap_data.apply(zscore, axis=0)\n",
    "\n",
    "# row colors (top bar) based on condition\n",
    "row_colors = expr_df[\"condition\"].map(subset_palette)\n",
    "\n",
    "# plot\n",
    "sns.clustermap(\n",
    "    data=heatmap_data_z.T,\n",
    "    col_colors=row_colors,\n",
    "    row_cluster=True, col_cluster=False,\n",
    "    cmap=\"RdBu_r\", center=0,\n",
    "    xticklabels=False, yticklabels=True,\n",
    "    linewidths=0.2, linecolor='lightgray',\n",
    "    figsize=(4, 2.5),\n",
    "    cbar_pos=None  # ← Proper way to hide color bar in clustermap\n",
    ")\n",
    "\n",
    "plt.tight_layout()\n",
    "#plt.savefig(\"CXCL_expression_heatmap.png\", dpi=600)\n",
    "plt.show()"
   ]
  },
  {
   "cell_type": "code",
   "execution_count": 20,
   "id": "5211193d-8225-4812-987b-50171a95af1d",
   "metadata": {},
   "outputs": [
    {
     "data": {
      "image/png": "[encoded data removed]",
      "text/plain": [
       "<Figure size 100x300 with 1 Axes>"
      ]
     },
     "metadata": {},
     "output_type": "display_data"
    }
   ],
   "source": [
    "# create colorbar for heatmap\n",
    "vmin, vmax = heatmap_data_z.min().min(), heatmap_data_z.max().max()\n",
    "cmap = plt.get_cmap(\"RdBu_r\")\n",
    "norm = mpl.colors.Normalize(vmin=vmin, vmax=vmax)\n",
    "\n",
    "# create plot\n",
    "fig, ax = plt.subplots(figsize=(1, 3)) \n",
    "fig.subplots_adjust(left=0.4, right=0.6)  # center colorbar\n",
    "\n",
    "cb = mpl.colorbar.ColorbarBase(\n",
    "    ax, cmap=cmap, norm=norm, orientation='vertical'\n",
    ")\n",
    "\n",
    "cb.set_label(\"Z-score\", color='black', labelpad=10)\n",
    "cb.ax.tick_params(colors='black', width=1, length=3)\n",
    "\n",
    "# set ticks\n",
    "cb.set_ticks(np.linspace(-1.6, 1.5, 5))\n",
    "\n",
    "# Save or show\n",
    "#plt.savefig(\"CXCL_expression_scalebar_only.png\", dpi=600, bbox_inches='tight')\n",
    "plt.show()\n"
   ]
  },
  {
   "cell_type": "code",
   "execution_count": 21,
   "id": "a4fe4de9-81bc-46a2-ba82-91576c79d623",
   "metadata": {},
   "outputs": [
    {
     "data": {
      "image/png": "[encoded data removed]",
      "text/plain": [
       "<Figure size 200x200 with 1 Axes>"
      ]
     },
     "metadata": {},
     "output_type": "display_data"
    }
   ],
   "source": [
    "# plot IFN-response score between aPD1-treated, IFN-conditioned tumors\n",
    "prog = \"ICBres\"\n",
    "\n",
    "subset_labels = [\n",
    "'MOC1i + aPD1',\n",
    "'KOi + aPD1'\n",
    "]\n",
    "\n",
    "subset_palette = {\n",
    "    'MOC1i + aPD1': 'firebrick',\n",
    "    'KOi + aPD1': 'blueviolet'\n",
    "}\n",
    "\n",
    "# subset only above samples\n",
    "adata_subset = adata.obs[adata.obs['condition'].isin(subset_labels)]\n",
    "\n",
    "# plot boxplot\n",
    "plt.figure(figsize=(2, 2))\n",
    "\n",
    "ax = sns.boxplot(\n",
    "    x=\"condition\", y=prog, data=adata_subset,\n",
    "    order=subset_labels,\n",
    "    palette=subset_palette,\n",
    "    fliersize=0, linewidth=1.5, width=.5\n",
    ")\n",
    "\n",
    "# overlay scatter plot\n",
    "sns.swarmplot(\n",
    "    x=\"condition\", y=prog, data=adata_subset,\n",
    "    order=subset_labels,\n",
    "    color=\"black\", size=4\n",
    ")\n",
    "\n",
    "# format\n",
    "ax.spines['top'].set_visible(False)\n",
    "ax.spines['right'].set_visible(False)\n",
    "ax.spines['left'].set_color(\"black\")\n",
    "ax.spines['bottom'].set_color(\"black\")\n",
    "\n",
    "ax.tick_params(\n",
    "    axis='both',\n",
    "    direction='out',\n",
    "    length=5,\n",
    "    width=1,\n",
    "    colors='black'\n",
    ")\n",
    "\n",
    "plt.xticks(np.arange(len(subset_labels)), [''] * len(subset_labels))  # Remove labels, keep ticks\n",
    "plt.xlabel('')\n",
    "plt.ylabel(\"\")\n",
    "plt.tight_layout()\n",
    "#plt.savefig(\"ICBres_score_aPD1_subset.png\", dpi=600)\n",
    "plt.show()"
   ]
  },
  {
   "cell_type": "code",
   "execution_count": 22,
   "id": "541dd037-bdc3-429f-b16a-310034620e99",
   "metadata": {},
   "outputs": [
    {
     "data": {
      "text/html": [
       "<div>\n",
       "<style scoped>\n",
       "    .dataframe tbody tr th:only-of-type {\n",
       "        vertical-align: middle;\n",
       "    }\n",
       "\n",
       "    .dataframe tbody tr th {\n",
       "        vertical-align: top;\n",
       "    }\n",
       "\n",
       "    .dataframe thead th {\n",
       "        text-align: right;\n",
       "    }\n",
       "</style>\n",
       "<table border=\"1\" class=\"dataframe\">\n",
       "  <thead>\n",
       "    <tr style=\"text-align: right;\">\n",
       "      <th></th>\n",
       "      <th>Group 1</th>\n",
       "      <th>Group 2</th>\n",
       "      <th>U-statistic</th>\n",
       "      <th>P-value</th>\n",
       "      <th>n1</th>\n",
       "      <th>n2</th>\n",
       "    </tr>\n",
       "  </thead>\n",
       "  <tbody>\n",
       "    <tr>\n",
       "      <th>0</th>\n",
       "      <td>MOC1i + aPD1</td>\n",
       "      <td>KOi + aPD1</td>\n",
       "      <td>27.0</td>\n",
       "      <td>0.030303</td>\n",
       "      <td>5</td>\n",
       "      <td>6</td>\n",
       "    </tr>\n",
       "  </tbody>\n",
       "</table>\n",
       "</div>"
      ],
      "text/plain": [
       "        Group 1     Group 2  U-statistic   P-value  n1  n2\n",
       "0  MOC1i + aPD1  KOi + aPD1         27.0  0.030303   5   6"
      ]
     },
     "execution_count": 22,
     "metadata": {},
     "output_type": "execute_result"
    }
   ],
   "source": [
    "# perform MWU test\n",
    "results_df = pd.DataFrame([\n",
    "    {\n",
    "        \"Group 1\": g1,\n",
    "        \"Group 2\": g2,\n",
    "        \"U-statistic\": (stat := mannwhitneyu(\n",
    "            (v1 := adata_subset[adata_subset[\"condition\"] == g1][prog].dropna()),\n",
    "            (v2 := adata_subset[adata_subset[\"condition\"] == g2][prog].dropna()),\n",
    "            alternative='two-sided'\n",
    "        ))[0],\n",
    "        \"P-value\": stat[1],\n",
    "        \"n1\": len(v1),\n",
    "        \"n2\": len(v2)\n",
    "    }\n",
    "    for g1, g2 in combinations(subset_labels, 2)\n",
    "])\n",
    "\n",
    "results_df"
   ]
  },
  {
   "cell_type": "code",
   "execution_count": 23,
   "id": "3e02f8d0-b244-43dc-b753-8b5992b38a8f",
   "metadata": {},
   "outputs": [
    {
     "data": {
      "image/png": "[encoded data removed]",
      "text/plain": [
       "<Figure size 200x200 with 1 Axes>"
      ]
     },
     "metadata": {},
     "output_type": "display_data"
    }
   ],
   "source": [
    "# plot IFN-response score between aPD1-treated, IFN-conditioned tumors\n",
    "prog = \"IFNresp\"\n",
    "\n",
    "subset_labels = [\n",
    "'MOC1i + aPD1',\n",
    "'KOi + aPD1'\n",
    "]\n",
    "\n",
    "subset_palette = {\n",
    "    'MOC1i + aPD1': 'firebrick',\n",
    "    'KOi + aPD1': 'blueviolet'\n",
    "}\n",
    "\n",
    "# subset only above samples\n",
    "adata_subset = adata.obs[adata.obs['condition'].isin(subset_labels)]\n",
    "\n",
    "# plot boxplot\n",
    "plt.figure(figsize=(2, 2))\n",
    "\n",
    "ax = sns.boxplot(\n",
    "    x=\"condition\", y=prog, data=adata_subset,\n",
    "    order=subset_labels,\n",
    "    palette=subset_palette,\n",
    "    fliersize=0, linewidth=1.5, width=.5\n",
    ")\n",
    "\n",
    "# overlay scatter plot\n",
    "sns.swarmplot(\n",
    "    x=\"condition\", y=prog, data=adata_subset,\n",
    "    order=subset_labels,\n",
    "    color=\"black\", size=4\n",
    ")\n",
    "\n",
    "# format\n",
    "ax.spines['top'].set_visible(False)\n",
    "ax.spines['right'].set_visible(False)\n",
    "ax.spines['left'].set_color(\"black\")\n",
    "ax.spines['bottom'].set_color(\"black\")\n",
    "\n",
    "ax.tick_params(\n",
    "    axis='both',\n",
    "    direction='out',\n",
    "    length=5,\n",
    "    width=1,\n",
    "    colors='black'\n",
    ")\n",
    "\n",
    "plt.xticks(np.arange(len(subset_labels)), [''] * len(subset_labels))  # Remove labels, keep ticks\n",
    "plt.xlabel('')\n",
    "plt.ylabel(\"\")\n",
    "plt.tight_layout()\n",
    "\n",
    "#plt.savefig(\"IFNresp_score_aPD1_subset.png\", dpi=600)\n",
    "plt.show()"
   ]
  },
  {
   "cell_type": "code",
   "execution_count": 24,
   "id": "18e345e9-d254-46af-b73e-e474c1da6768",
   "metadata": {},
   "outputs": [
    {
     "data": {
      "text/html": [
       "<div>\n",
       "<style scoped>\n",
       "    .dataframe tbody tr th:only-of-type {\n",
       "        vertical-align: middle;\n",
       "    }\n",
       "\n",
       "    .dataframe tbody tr th {\n",
       "        vertical-align: top;\n",
       "    }\n",
       "\n",
       "    .dataframe thead th {\n",
       "        text-align: right;\n",
       "    }\n",
       "</style>\n",
       "<table border=\"1\" class=\"dataframe\">\n",
       "  <thead>\n",
       "    <tr style=\"text-align: right;\">\n",
       "      <th></th>\n",
       "      <th>Group 1</th>\n",
       "      <th>Group 2</th>\n",
       "      <th>U-statistic</th>\n",
       "      <th>P-value</th>\n",
       "      <th>n1</th>\n",
       "      <th>n2</th>\n",
       "    </tr>\n",
       "  </thead>\n",
       "  <tbody>\n",
       "    <tr>\n",
       "      <th>0</th>\n",
       "      <td>MOC1i + aPD1</td>\n",
       "      <td>KOi + aPD1</td>\n",
       "      <td>4.0</td>\n",
       "      <td>0.051948</td>\n",
       "      <td>5</td>\n",
       "      <td>6</td>\n",
       "    </tr>\n",
       "  </tbody>\n",
       "</table>\n",
       "</div>"
      ],
      "text/plain": [
       "        Group 1     Group 2  U-statistic   P-value  n1  n2\n",
       "0  MOC1i + aPD1  KOi + aPD1          4.0  0.051948   5   6"
      ]
     },
     "execution_count": 24,
     "metadata": {},
     "output_type": "execute_result"
    }
   ],
   "source": [
    "# perform MWU test\n",
    "results_df = pd.DataFrame([\n",
    "    {\n",
    "        \"Group 1\": g1,\n",
    "        \"Group 2\": g2,\n",
    "        \"U-statistic\": (stat := mannwhitneyu(\n",
    "            (v1 := adata_subset[adata_subset[\"condition\"] == g1][prog].dropna()),\n",
    "            (v2 := adata_subset[adata_subset[\"condition\"] == g2][prog].dropna()),\n",
    "            alternative='two-sided'\n",
    "        ))[0],\n",
    "        \"P-value\": stat[1],\n",
    "        \"n1\": len(v1),\n",
    "        \"n2\": len(v2)\n",
    "    }\n",
    "    for g1, g2 in combinations(subset_labels, 2)\n",
    "])\n",
    "\n",
    "results_df"
   ]
  }
 ],
 "metadata": {
  "kernelspec": {
   "display_name": "Python 3 (ipykernel)",
   "language": "python",
   "name": "python3"
  },
  "language_info": {
   "codemirror_mode": {
    "name": "ipython",
    "version": 3
   },
   "file_extension": ".py",
   "mimetype": "text/x-python",
   "name": "python",
   "nbconvert_exporter": "python",
   "pygments_lexer": "ipython3",
   "version": "3.12.5"
  }
 },
 "nbformat": 4,
 "nbformat_minor": 5
}
